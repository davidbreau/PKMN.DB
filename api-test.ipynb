{
 "cells": [
  {
   "cell_type": "code",
   "execution_count": 1,
   "metadata": {},
   "outputs": [
    {
     "name": "stdout",
     "output_type": "stream",
     "text": [
      "2025-05-13 23:47:07,241 INFO sqlalchemy.engine.Engine BEGIN (implicit)\n"
     ]
    },
    {
     "name": "stderr",
     "output_type": "stream",
     "text": [
      "BEGIN (implicit)\n"
     ]
    },
    {
     "name": "stdout",
     "output_type": "stream",
     "text": [
      "2025-05-13 23:47:07,248 INFO sqlalchemy.engine.Engine PRAGMA main.table_info(\"abilities\")\n"
     ]
    },
    {
     "name": "stderr",
     "output_type": "stream",
     "text": [
      "PRAGMA main.table_info(\"abilities\")\n"
     ]
    },
    {
     "name": "stdout",
     "output_type": "stream",
     "text": [
      "2025-05-13 23:47:07,254 INFO sqlalchemy.engine.Engine [raw sql] ()\n"
     ]
    },
    {
     "name": "stderr",
     "output_type": "stream",
     "text": [
      "[raw sql] ()\n"
     ]
    },
    {
     "name": "stdout",
     "output_type": "stream",
     "text": [
      "2025-05-13 23:47:07,261 INFO sqlalchemy.engine.Engine PRAGMA temp.table_info(\"abilities\")\n"
     ]
    },
    {
     "name": "stderr",
     "output_type": "stream",
     "text": [
      "PRAGMA temp.table_info(\"abilities\")\n"
     ]
    },
    {
     "name": "stdout",
     "output_type": "stream",
     "text": [
      "2025-05-13 23:47:07,268 INFO sqlalchemy.engine.Engine [raw sql] ()\n"
     ]
    },
    {
     "name": "stderr",
     "output_type": "stream",
     "text": [
      "[raw sql] ()\n"
     ]
    },
    {
     "name": "stdout",
     "output_type": "stream",
     "text": [
      "2025-05-13 23:47:07,273 INFO sqlalchemy.engine.Engine PRAGMA main.table_info(\"evolutions\")\n"
     ]
    },
    {
     "name": "stderr",
     "output_type": "stream",
     "text": [
      "PRAGMA main.table_info(\"evolutions\")\n"
     ]
    },
    {
     "name": "stdout",
     "output_type": "stream",
     "text": [
      "2025-05-13 23:47:07,277 INFO sqlalchemy.engine.Engine [raw sql] ()\n"
     ]
    },
    {
     "name": "stderr",
     "output_type": "stream",
     "text": [
      "[raw sql] ()\n"
     ]
    },
    {
     "name": "stdout",
     "output_type": "stream",
     "text": [
      "2025-05-13 23:47:07,287 INFO sqlalchemy.engine.Engine PRAGMA temp.table_info(\"evolutions\")\n"
     ]
    },
    {
     "name": "stderr",
     "output_type": "stream",
     "text": [
      "PRAGMA temp.table_info(\"evolutions\")\n"
     ]
    },
    {
     "name": "stdout",
     "output_type": "stream",
     "text": [
      "2025-05-13 23:47:07,297 INFO sqlalchemy.engine.Engine [raw sql] ()\n"
     ]
    },
    {
     "name": "stderr",
     "output_type": "stream",
     "text": [
      "[raw sql] ()\n"
     ]
    },
    {
     "name": "stdout",
     "output_type": "stream",
     "text": [
      "2025-05-13 23:47:07,313 INFO sqlalchemy.engine.Engine PRAGMA main.table_info(\"games\")\n"
     ]
    },
    {
     "name": "stderr",
     "output_type": "stream",
     "text": [
      "PRAGMA main.table_info(\"games\")\n"
     ]
    },
    {
     "name": "stdout",
     "output_type": "stream",
     "text": [
      "2025-05-13 23:47:07,317 INFO sqlalchemy.engine.Engine [raw sql] ()\n"
     ]
    },
    {
     "name": "stderr",
     "output_type": "stream",
     "text": [
      "[raw sql] ()\n"
     ]
    },
    {
     "name": "stdout",
     "output_type": "stream",
     "text": [
      "2025-05-13 23:47:07,324 INFO sqlalchemy.engine.Engine PRAGMA temp.table_info(\"games\")\n"
     ]
    },
    {
     "name": "stderr",
     "output_type": "stream",
     "text": [
      "PRAGMA temp.table_info(\"games\")\n"
     ]
    },
    {
     "name": "stdout",
     "output_type": "stream",
     "text": [
      "2025-05-13 23:47:07,332 INFO sqlalchemy.engine.Engine [raw sql] ()\n"
     ]
    },
    {
     "name": "stderr",
     "output_type": "stream",
     "text": [
      "[raw sql] ()\n"
     ]
    },
    {
     "name": "stdout",
     "output_type": "stream",
     "text": [
      "2025-05-13 23:47:07,341 INFO sqlalchemy.engine.Engine PRAGMA main.table_info(\"machines\")\n"
     ]
    },
    {
     "name": "stderr",
     "output_type": "stream",
     "text": [
      "PRAGMA main.table_info(\"machines\")\n"
     ]
    },
    {
     "name": "stdout",
     "output_type": "stream",
     "text": [
      "2025-05-13 23:47:07,348 INFO sqlalchemy.engine.Engine [raw sql] ()\n"
     ]
    },
    {
     "name": "stderr",
     "output_type": "stream",
     "text": [
      "[raw sql] ()\n"
     ]
    },
    {
     "name": "stdout",
     "output_type": "stream",
     "text": [
      "2025-05-13 23:47:07,360 INFO sqlalchemy.engine.Engine PRAGMA temp.table_info(\"machines\")\n"
     ]
    },
    {
     "name": "stderr",
     "output_type": "stream",
     "text": [
      "PRAGMA temp.table_info(\"machines\")\n"
     ]
    },
    {
     "name": "stdout",
     "output_type": "stream",
     "text": [
      "2025-05-13 23:47:07,365 INFO sqlalchemy.engine.Engine [raw sql] ()\n"
     ]
    },
    {
     "name": "stderr",
     "output_type": "stream",
     "text": [
      "[raw sql] ()\n"
     ]
    },
    {
     "name": "stdout",
     "output_type": "stream",
     "text": [
      "2025-05-13 23:47:07,371 INFO sqlalchemy.engine.Engine PRAGMA main.table_info(\"moves\")\n"
     ]
    },
    {
     "name": "stderr",
     "output_type": "stream",
     "text": [
      "PRAGMA main.table_info(\"moves\")\n"
     ]
    },
    {
     "name": "stdout",
     "output_type": "stream",
     "text": [
      "2025-05-13 23:47:07,381 INFO sqlalchemy.engine.Engine [raw sql] ()\n"
     ]
    },
    {
     "name": "stderr",
     "output_type": "stream",
     "text": [
      "[raw sql] ()\n"
     ]
    },
    {
     "name": "stdout",
     "output_type": "stream",
     "text": [
      "2025-05-13 23:47:07,392 INFO sqlalchemy.engine.Engine PRAGMA temp.table_info(\"moves\")\n"
     ]
    },
    {
     "name": "stderr",
     "output_type": "stream",
     "text": [
      "PRAGMA temp.table_info(\"moves\")\n"
     ]
    },
    {
     "name": "stdout",
     "output_type": "stream",
     "text": [
      "2025-05-13 23:47:07,409 INFO sqlalchemy.engine.Engine [raw sql] ()\n"
     ]
    },
    {
     "name": "stderr",
     "output_type": "stream",
     "text": [
      "[raw sql] ()\n"
     ]
    },
    {
     "name": "stdout",
     "output_type": "stream",
     "text": [
      "2025-05-13 23:47:07,421 INFO sqlalchemy.engine.Engine PRAGMA main.table_info(\"pokedex_numbers\")\n"
     ]
    },
    {
     "name": "stderr",
     "output_type": "stream",
     "text": [
      "PRAGMA main.table_info(\"pokedex_numbers\")\n"
     ]
    },
    {
     "name": "stdout",
     "output_type": "stream",
     "text": [
      "2025-05-13 23:47:07,450 INFO sqlalchemy.engine.Engine [raw sql] ()\n"
     ]
    },
    {
     "name": "stderr",
     "output_type": "stream",
     "text": [
      "[raw sql] ()\n"
     ]
    },
    {
     "name": "stdout",
     "output_type": "stream",
     "text": [
      "2025-05-13 23:47:07,475 INFO sqlalchemy.engine.Engine PRAGMA temp.table_info(\"pokedex_numbers\")\n"
     ]
    },
    {
     "name": "stderr",
     "output_type": "stream",
     "text": [
      "PRAGMA temp.table_info(\"pokedex_numbers\")\n"
     ]
    },
    {
     "name": "stdout",
     "output_type": "stream",
     "text": [
      "2025-05-13 23:47:07,485 INFO sqlalchemy.engine.Engine [raw sql] ()\n"
     ]
    },
    {
     "name": "stderr",
     "output_type": "stream",
     "text": [
      "[raw sql] ()\n"
     ]
    },
    {
     "name": "stdout",
     "output_type": "stream",
     "text": [
      "2025-05-13 23:47:07,531 INFO sqlalchemy.engine.Engine PRAGMA main.table_info(\"pokemons\")\n"
     ]
    },
    {
     "name": "stderr",
     "output_type": "stream",
     "text": [
      "PRAGMA main.table_info(\"pokemons\")\n"
     ]
    },
    {
     "name": "stdout",
     "output_type": "stream",
     "text": [
      "2025-05-13 23:47:07,675 INFO sqlalchemy.engine.Engine [raw sql] ()\n"
     ]
    },
    {
     "name": "stderr",
     "output_type": "stream",
     "text": [
      "[raw sql] ()\n"
     ]
    },
    {
     "name": "stdout",
     "output_type": "stream",
     "text": [
      "2025-05-13 23:47:07,696 INFO sqlalchemy.engine.Engine PRAGMA temp.table_info(\"pokemons\")\n"
     ]
    },
    {
     "name": "stderr",
     "output_type": "stream",
     "text": [
      "PRAGMA temp.table_info(\"pokemons\")\n"
     ]
    },
    {
     "name": "stdout",
     "output_type": "stream",
     "text": [
      "2025-05-13 23:47:07,706 INFO sqlalchemy.engine.Engine [raw sql] ()\n"
     ]
    },
    {
     "name": "stderr",
     "output_type": "stream",
     "text": [
      "[raw sql] ()\n"
     ]
    },
    {
     "name": "stdout",
     "output_type": "stream",
     "text": [
      "2025-05-13 23:47:07,717 INFO sqlalchemy.engine.Engine PRAGMA main.table_info(\"pokemons_abilities\")\n"
     ]
    },
    {
     "name": "stderr",
     "output_type": "stream",
     "text": [
      "PRAGMA main.table_info(\"pokemons_abilities\")\n"
     ]
    },
    {
     "name": "stdout",
     "output_type": "stream",
     "text": [
      "2025-05-13 23:47:07,745 INFO sqlalchemy.engine.Engine [raw sql] ()\n"
     ]
    },
    {
     "name": "stderr",
     "output_type": "stream",
     "text": [
      "[raw sql] ()\n"
     ]
    },
    {
     "name": "stdout",
     "output_type": "stream",
     "text": [
      "2025-05-13 23:47:07,762 INFO sqlalchemy.engine.Engine PRAGMA temp.table_info(\"pokemons_abilities\")\n"
     ]
    },
    {
     "name": "stderr",
     "output_type": "stream",
     "text": [
      "PRAGMA temp.table_info(\"pokemons_abilities\")\n"
     ]
    },
    {
     "name": "stdout",
     "output_type": "stream",
     "text": [
      "2025-05-13 23:47:07,781 INFO sqlalchemy.engine.Engine [raw sql] ()\n"
     ]
    },
    {
     "name": "stderr",
     "output_type": "stream",
     "text": [
      "[raw sql] ()\n"
     ]
    },
    {
     "name": "stdout",
     "output_type": "stream",
     "text": [
      "2025-05-13 23:47:07,794 INFO sqlalchemy.engine.Engine PRAGMA main.table_info(\"pokemon_details\")\n"
     ]
    },
    {
     "name": "stderr",
     "output_type": "stream",
     "text": [
      "PRAGMA main.table_info(\"pokemon_details\")\n"
     ]
    },
    {
     "name": "stdout",
     "output_type": "stream",
     "text": [
      "2025-05-13 23:47:07,802 INFO sqlalchemy.engine.Engine [raw sql] ()\n"
     ]
    },
    {
     "name": "stderr",
     "output_type": "stream",
     "text": [
      "[raw sql] ()\n"
     ]
    },
    {
     "name": "stdout",
     "output_type": "stream",
     "text": [
      "2025-05-13 23:47:07,811 INFO sqlalchemy.engine.Engine PRAGMA temp.table_info(\"pokemon_details\")\n"
     ]
    },
    {
     "name": "stderr",
     "output_type": "stream",
     "text": [
      "PRAGMA temp.table_info(\"pokemon_details\")\n"
     ]
    },
    {
     "name": "stdout",
     "output_type": "stream",
     "text": [
      "2025-05-13 23:47:07,814 INFO sqlalchemy.engine.Engine [raw sql] ()\n"
     ]
    },
    {
     "name": "stderr",
     "output_type": "stream",
     "text": [
      "[raw sql] ()\n"
     ]
    },
    {
     "name": "stdout",
     "output_type": "stream",
     "text": [
      "2025-05-13 23:47:07,818 INFO sqlalchemy.engine.Engine PRAGMA main.table_info(\"pokemons_learnsets\")\n"
     ]
    },
    {
     "name": "stderr",
     "output_type": "stream",
     "text": [
      "PRAGMA main.table_info(\"pokemons_learnsets\")\n"
     ]
    },
    {
     "name": "stdout",
     "output_type": "stream",
     "text": [
      "2025-05-13 23:47:07,821 INFO sqlalchemy.engine.Engine [raw sql] ()\n"
     ]
    },
    {
     "name": "stderr",
     "output_type": "stream",
     "text": [
      "[raw sql] ()\n"
     ]
    },
    {
     "name": "stdout",
     "output_type": "stream",
     "text": [
      "2025-05-13 23:47:07,828 INFO sqlalchemy.engine.Engine PRAGMA temp.table_info(\"pokemons_learnsets\")\n"
     ]
    },
    {
     "name": "stderr",
     "output_type": "stream",
     "text": [
      "PRAGMA temp.table_info(\"pokemons_learnsets\")\n"
     ]
    },
    {
     "name": "stdout",
     "output_type": "stream",
     "text": [
      "2025-05-13 23:47:07,830 INFO sqlalchemy.engine.Engine [raw sql] ()\n"
     ]
    },
    {
     "name": "stderr",
     "output_type": "stream",
     "text": [
      "[raw sql] ()\n"
     ]
    },
    {
     "name": "stdout",
     "output_type": "stream",
     "text": [
      "2025-05-13 23:47:07,840 INFO sqlalchemy.engine.Engine PRAGMA main.table_info(\"pokemon_sprites\")\n"
     ]
    },
    {
     "name": "stderr",
     "output_type": "stream",
     "text": [
      "PRAGMA main.table_info(\"pokemon_sprites\")\n"
     ]
    },
    {
     "name": "stdout",
     "output_type": "stream",
     "text": [
      "2025-05-13 23:47:07,846 INFO sqlalchemy.engine.Engine [raw sql] ()\n"
     ]
    },
    {
     "name": "stderr",
     "output_type": "stream",
     "text": [
      "[raw sql] ()\n"
     ]
    },
    {
     "name": "stdout",
     "output_type": "stream",
     "text": [
      "2025-05-13 23:47:07,849 INFO sqlalchemy.engine.Engine PRAGMA temp.table_info(\"pokemon_sprites\")\n"
     ]
    },
    {
     "name": "stderr",
     "output_type": "stream",
     "text": [
      "PRAGMA temp.table_info(\"pokemon_sprites\")\n"
     ]
    },
    {
     "name": "stdout",
     "output_type": "stream",
     "text": [
      "2025-05-13 23:47:07,853 INFO sqlalchemy.engine.Engine [raw sql] ()\n"
     ]
    },
    {
     "name": "stderr",
     "output_type": "stream",
     "text": [
      "[raw sql] ()\n"
     ]
    },
    {
     "name": "stdout",
     "output_type": "stream",
     "text": [
      "2025-05-13 23:47:07,857 INFO sqlalchemy.engine.Engine PRAGMA main.table_info(\"pokemon_stats\")\n"
     ]
    },
    {
     "name": "stderr",
     "output_type": "stream",
     "text": [
      "PRAGMA main.table_info(\"pokemon_stats\")\n"
     ]
    },
    {
     "name": "stdout",
     "output_type": "stream",
     "text": [
      "2025-05-13 23:47:07,862 INFO sqlalchemy.engine.Engine [raw sql] ()\n"
     ]
    },
    {
     "name": "stderr",
     "output_type": "stream",
     "text": [
      "[raw sql] ()\n"
     ]
    },
    {
     "name": "stdout",
     "output_type": "stream",
     "text": [
      "2025-05-13 23:47:07,865 INFO sqlalchemy.engine.Engine PRAGMA temp.table_info(\"pokemon_stats\")\n"
     ]
    },
    {
     "name": "stderr",
     "output_type": "stream",
     "text": [
      "PRAGMA temp.table_info(\"pokemon_stats\")\n"
     ]
    },
    {
     "name": "stdout",
     "output_type": "stream",
     "text": [
      "2025-05-13 23:47:07,868 INFO sqlalchemy.engine.Engine [raw sql] ()\n"
     ]
    },
    {
     "name": "stderr",
     "output_type": "stream",
     "text": [
      "[raw sql] ()\n"
     ]
    },
    {
     "name": "stdout",
     "output_type": "stream",
     "text": [
      "2025-05-13 23:47:07,872 INFO sqlalchemy.engine.Engine PRAGMA main.table_info(\"types\")\n"
     ]
    },
    {
     "name": "stderr",
     "output_type": "stream",
     "text": [
      "PRAGMA main.table_info(\"types\")\n"
     ]
    },
    {
     "name": "stdout",
     "output_type": "stream",
     "text": [
      "2025-05-13 23:47:07,876 INFO sqlalchemy.engine.Engine [raw sql] ()\n"
     ]
    },
    {
     "name": "stderr",
     "output_type": "stream",
     "text": [
      "[raw sql] ()\n"
     ]
    },
    {
     "name": "stdout",
     "output_type": "stream",
     "text": [
      "2025-05-13 23:47:07,886 INFO sqlalchemy.engine.Engine PRAGMA temp.table_info(\"types\")\n"
     ]
    },
    {
     "name": "stderr",
     "output_type": "stream",
     "text": [
      "PRAGMA temp.table_info(\"types\")\n"
     ]
    },
    {
     "name": "stdout",
     "output_type": "stream",
     "text": [
      "2025-05-13 23:47:07,888 INFO sqlalchemy.engine.Engine [raw sql] ()\n"
     ]
    },
    {
     "name": "stderr",
     "output_type": "stream",
     "text": [
      "[raw sql] ()\n"
     ]
    },
    {
     "name": "stdout",
     "output_type": "stream",
     "text": [
      "2025-05-13 23:47:07,892 INFO sqlalchemy.engine.Engine PRAGMA main.table_info(\"types_effectiveness\")\n"
     ]
    },
    {
     "name": "stderr",
     "output_type": "stream",
     "text": [
      "PRAGMA main.table_info(\"types_effectiveness\")\n"
     ]
    },
    {
     "name": "stdout",
     "output_type": "stream",
     "text": [
      "2025-05-13 23:47:07,897 INFO sqlalchemy.engine.Engine [raw sql] ()\n"
     ]
    },
    {
     "name": "stderr",
     "output_type": "stream",
     "text": [
      "[raw sql] ()\n"
     ]
    },
    {
     "name": "stdout",
     "output_type": "stream",
     "text": [
      "2025-05-13 23:47:07,907 INFO sqlalchemy.engine.Engine PRAGMA temp.table_info(\"types_effectiveness\")\n"
     ]
    },
    {
     "name": "stderr",
     "output_type": "stream",
     "text": [
      "PRAGMA temp.table_info(\"types_effectiveness\")\n"
     ]
    },
    {
     "name": "stdout",
     "output_type": "stream",
     "text": [
      "2025-05-13 23:47:07,917 INFO sqlalchemy.engine.Engine [raw sql] ()\n"
     ]
    },
    {
     "name": "stderr",
     "output_type": "stream",
     "text": [
      "[raw sql] ()\n"
     ]
    },
    {
     "name": "stdout",
     "output_type": "stream",
     "text": [
      "2025-05-13 23:47:07,924 INFO sqlalchemy.engine.Engine \n",
      "CREATE TABLE abilities (\n",
      "\tid INTEGER NOT NULL, \n",
      "\tname VARCHAR(30) NOT NULL, \n",
      "\tname_fr VARCHAR(30), \n",
      "\teffect VARCHAR(1000), \n",
      "\teffect_fr VARCHAR(1000), \n",
      "\tgeneration INTEGER, \n",
      "\tPRIMARY KEY (id), \n",
      "\tUNIQUE (name), \n",
      "\tUNIQUE (name_fr)\n",
      ")\n",
      "\n",
      "\n"
     ]
    },
    {
     "name": "stderr",
     "output_type": "stream",
     "text": [
      "\n",
      "CREATE TABLE abilities (\n",
      "\tid INTEGER NOT NULL, \n",
      "\tname VARCHAR(30) NOT NULL, \n",
      "\tname_fr VARCHAR(30), \n",
      "\teffect VARCHAR(1000), \n",
      "\teffect_fr VARCHAR(1000), \n",
      "\tgeneration INTEGER, \n",
      "\tPRIMARY KEY (id), \n",
      "\tUNIQUE (name), \n",
      "\tUNIQUE (name_fr)\n",
      ")\n",
      "\n",
      "\n"
     ]
    },
    {
     "name": "stdout",
     "output_type": "stream",
     "text": [
      "2025-05-13 23:47:07,928 INFO sqlalchemy.engine.Engine [no key 0.00467s] ()\n"
     ]
    },
    {
     "name": "stderr",
     "output_type": "stream",
     "text": [
      "[no key 0.00467s] ()\n"
     ]
    },
    {
     "name": "stdout",
     "output_type": "stream",
     "text": [
      "2025-05-13 23:47:07,937 INFO sqlalchemy.engine.Engine \n",
      "CREATE TABLE games (\n",
      "\tid INTEGER NOT NULL, \n",
      "\tname VARCHAR(50) NOT NULL, \n",
      "\tgeneration_number INTEGER NOT NULL, \n",
      "\tgeneration_name VARCHAR(50), \n",
      "\tversion_group VARCHAR(50) NOT NULL, \n",
      "\tregion_name VARCHAR(50) NOT NULL, \n",
      "\tPRIMARY KEY (id)\n",
      ")\n",
      "\n",
      "\n"
     ]
    },
    {
     "name": "stderr",
     "output_type": "stream",
     "text": [
      "\n",
      "CREATE TABLE games (\n",
      "\tid INTEGER NOT NULL, \n",
      "\tname VARCHAR(50) NOT NULL, \n",
      "\tgeneration_number INTEGER NOT NULL, \n",
      "\tgeneration_name VARCHAR(50), \n",
      "\tversion_group VARCHAR(50) NOT NULL, \n",
      "\tregion_name VARCHAR(50) NOT NULL, \n",
      "\tPRIMARY KEY (id)\n",
      ")\n",
      "\n",
      "\n"
     ]
    },
    {
     "name": "stdout",
     "output_type": "stream",
     "text": [
      "2025-05-13 23:47:07,942 INFO sqlalchemy.engine.Engine [no key 0.00516s] ()\n"
     ]
    },
    {
     "name": "stderr",
     "output_type": "stream",
     "text": [
      "[no key 0.00516s] ()\n"
     ]
    },
    {
     "name": "stdout",
     "output_type": "stream",
     "text": [
      "2025-05-13 23:47:07,952 INFO sqlalchemy.engine.Engine \n",
      "CREATE TABLE moves (\n",
      "\tid INTEGER NOT NULL, \n",
      "\tname VARCHAR(100) NOT NULL, \n",
      "\tname_fr VARCHAR(100), \n",
      "\tdamage INTEGER, \n",
      "\tprecision INTEGER, \n",
      "\tdamage_class VARCHAR(50), \n",
      "\teffect VARCHAR(1000), \n",
      "\teffect_fr VARCHAR(1000), \n",
      "\tgeneration INTEGER, \n",
      "\tPRIMARY KEY (id), \n",
      "\tUNIQUE (name), \n",
      "\tUNIQUE (name_fr)\n",
      ")\n",
      "\n",
      "\n"
     ]
    },
    {
     "name": "stderr",
     "output_type": "stream",
     "text": [
      "\n",
      "CREATE TABLE moves (\n",
      "\tid INTEGER NOT NULL, \n",
      "\tname VARCHAR(100) NOT NULL, \n",
      "\tname_fr VARCHAR(100), \n",
      "\tdamage INTEGER, \n",
      "\tprecision INTEGER, \n",
      "\tdamage_class VARCHAR(50), \n",
      "\teffect VARCHAR(1000), \n",
      "\teffect_fr VARCHAR(1000), \n",
      "\tgeneration INTEGER, \n",
      "\tPRIMARY KEY (id), \n",
      "\tUNIQUE (name), \n",
      "\tUNIQUE (name_fr)\n",
      ")\n",
      "\n",
      "\n"
     ]
    },
    {
     "name": "stdout",
     "output_type": "stream",
     "text": [
      "2025-05-13 23:47:07,954 INFO sqlalchemy.engine.Engine [no key 0.00273s] ()\n"
     ]
    },
    {
     "name": "stderr",
     "output_type": "stream",
     "text": [
      "[no key 0.00273s] ()\n"
     ]
    },
    {
     "name": "stdout",
     "output_type": "stream",
     "text": [
      "2025-05-13 23:47:07,963 INFO sqlalchemy.engine.Engine \n",
      "CREATE TABLE types (\n",
      "\tid INTEGER NOT NULL, \n",
      "\tname VARCHAR(20) NOT NULL, \n",
      "\tname_fr VARCHAR(20), \n",
      "\tgeneration INTEGER, \n",
      "\tPRIMARY KEY (id), \n",
      "\tUNIQUE (name), \n",
      "\tUNIQUE (name_fr)\n",
      ")\n",
      "\n",
      "\n"
     ]
    },
    {
     "name": "stderr",
     "output_type": "stream",
     "text": [
      "\n",
      "CREATE TABLE types (\n",
      "\tid INTEGER NOT NULL, \n",
      "\tname VARCHAR(20) NOT NULL, \n",
      "\tname_fr VARCHAR(20), \n",
      "\tgeneration INTEGER, \n",
      "\tPRIMARY KEY (id), \n",
      "\tUNIQUE (name), \n",
      "\tUNIQUE (name_fr)\n",
      ")\n",
      "\n",
      "\n"
     ]
    },
    {
     "name": "stdout",
     "output_type": "stream",
     "text": [
      "2025-05-13 23:47:07,965 INFO sqlalchemy.engine.Engine [no key 0.00259s] ()\n"
     ]
    },
    {
     "name": "stderr",
     "output_type": "stream",
     "text": [
      "[no key 0.00259s] ()\n"
     ]
    },
    {
     "name": "stdout",
     "output_type": "stream",
     "text": [
      "2025-05-13 23:47:07,976 INFO sqlalchemy.engine.Engine \n",
      "CREATE TABLE machines (\n",
      "\tid INTEGER NOT NULL, \n",
      "\tmachine_number VARCHAR(10) NOT NULL, \n",
      "\tmove_id INTEGER NOT NULL, \n",
      "\tmove_name VARCHAR(100), \n",
      "\tversion_group VARCHAR(50) NOT NULL, \n",
      "\tPRIMARY KEY (id), \n",
      "\tFOREIGN KEY(move_id) REFERENCES moves (id), \n",
      "\tFOREIGN KEY(version_group) REFERENCES games (version_group)\n",
      ")\n",
      "\n",
      "\n"
     ]
    },
    {
     "name": "stderr",
     "output_type": "stream",
     "text": [
      "\n",
      "CREATE TABLE machines (\n",
      "\tid INTEGER NOT NULL, \n",
      "\tmachine_number VARCHAR(10) NOT NULL, \n",
      "\tmove_id INTEGER NOT NULL, \n",
      "\tmove_name VARCHAR(100), \n",
      "\tversion_group VARCHAR(50) NOT NULL, \n",
      "\tPRIMARY KEY (id), \n",
      "\tFOREIGN KEY(move_id) REFERENCES moves (id), \n",
      "\tFOREIGN KEY(version_group) REFERENCES games (version_group)\n",
      ")\n",
      "\n",
      "\n"
     ]
    },
    {
     "name": "stdout",
     "output_type": "stream",
     "text": [
      "2025-05-13 23:47:07,980 INFO sqlalchemy.engine.Engine [no key 0.00407s] ()\n"
     ]
    },
    {
     "name": "stderr",
     "output_type": "stream",
     "text": [
      "[no key 0.00407s] ()\n"
     ]
    },
    {
     "name": "stdout",
     "output_type": "stream",
     "text": [
      "2025-05-13 23:47:07,987 INFO sqlalchemy.engine.Engine CREATE INDEX ix_machines_version_group ON machines (version_group)\n"
     ]
    },
    {
     "name": "stderr",
     "output_type": "stream",
     "text": [
      "CREATE INDEX ix_machines_version_group ON machines (version_group)\n"
     ]
    },
    {
     "name": "stdout",
     "output_type": "stream",
     "text": [
      "2025-05-13 23:47:07,991 INFO sqlalchemy.engine.Engine [no key 0.00390s] ()\n"
     ]
    },
    {
     "name": "stderr",
     "output_type": "stream",
     "text": [
      "[no key 0.00390s] ()\n"
     ]
    },
    {
     "name": "stdout",
     "output_type": "stream",
     "text": [
      "2025-05-13 23:47:07,999 INFO sqlalchemy.engine.Engine \n",
      "CREATE TABLE pokemons (\n",
      "\tid INTEGER NOT NULL, \n",
      "\tnational_pokedex_number INTEGER NOT NULL, \n",
      "\tname_en VARCHAR(100) NOT NULL, \n",
      "\tname_fr VARCHAR(100), \n",
      "\ttype_1_id INTEGER NOT NULL, \n",
      "\ttype_2_id INTEGER, \n",
      "\tsprite_url VARCHAR(255), \n",
      "\tcry_url VARCHAR(255), \n",
      "\tPRIMARY KEY (id), \n",
      "\tUNIQUE (name_en), \n",
      "\tUNIQUE (name_fr), \n",
      "\tFOREIGN KEY(type_1_id) REFERENCES types (id), \n",
      "\tFOREIGN KEY(type_2_id) REFERENCES types (id)\n",
      ")\n",
      "\n",
      "\n"
     ]
    },
    {
     "name": "stderr",
     "output_type": "stream",
     "text": [
      "\n",
      "CREATE TABLE pokemons (\n",
      "\tid INTEGER NOT NULL, \n",
      "\tnational_pokedex_number INTEGER NOT NULL, \n",
      "\tname_en VARCHAR(100) NOT NULL, \n",
      "\tname_fr VARCHAR(100), \n",
      "\ttype_1_id INTEGER NOT NULL, \n",
      "\ttype_2_id INTEGER, \n",
      "\tsprite_url VARCHAR(255), \n",
      "\tcry_url VARCHAR(255), \n",
      "\tPRIMARY KEY (id), \n",
      "\tUNIQUE (name_en), \n",
      "\tUNIQUE (name_fr), \n",
      "\tFOREIGN KEY(type_1_id) REFERENCES types (id), \n",
      "\tFOREIGN KEY(type_2_id) REFERENCES types (id)\n",
      ")\n",
      "\n",
      "\n"
     ]
    },
    {
     "name": "stdout",
     "output_type": "stream",
     "text": [
      "2025-05-13 23:47:08,002 INFO sqlalchemy.engine.Engine [no key 0.00306s] ()\n"
     ]
    },
    {
     "name": "stderr",
     "output_type": "stream",
     "text": [
      "[no key 0.00306s] ()\n"
     ]
    },
    {
     "name": "stdout",
     "output_type": "stream",
     "text": [
      "2025-05-13 23:47:08,010 INFO sqlalchemy.engine.Engine \n",
      "CREATE TABLE types_effectiveness (\n",
      "\tid INTEGER NOT NULL, \n",
      "\tattacking_type_id INTEGER NOT NULL, \n",
      "\tdefending_type_id INTEGER NOT NULL, \n",
      "\teffectiveness FLOAT NOT NULL, \n",
      "\tPRIMARY KEY (id), \n",
      "\tFOREIGN KEY(attacking_type_id) REFERENCES types (id), \n",
      "\tFOREIGN KEY(defending_type_id) REFERENCES types (id)\n",
      ")\n",
      "\n",
      "\n"
     ]
    },
    {
     "name": "stderr",
     "output_type": "stream",
     "text": [
      "\n",
      "CREATE TABLE types_effectiveness (\n",
      "\tid INTEGER NOT NULL, \n",
      "\tattacking_type_id INTEGER NOT NULL, \n",
      "\tdefending_type_id INTEGER NOT NULL, \n",
      "\teffectiveness FLOAT NOT NULL, \n",
      "\tPRIMARY KEY (id), \n",
      "\tFOREIGN KEY(attacking_type_id) REFERENCES types (id), \n",
      "\tFOREIGN KEY(defending_type_id) REFERENCES types (id)\n",
      ")\n",
      "\n",
      "\n"
     ]
    },
    {
     "name": "stdout",
     "output_type": "stream",
     "text": [
      "2025-05-13 23:47:08,013 INFO sqlalchemy.engine.Engine [no key 0.00347s] ()\n"
     ]
    },
    {
     "name": "stderr",
     "output_type": "stream",
     "text": [
      "[no key 0.00347s] ()\n"
     ]
    },
    {
     "name": "stdout",
     "output_type": "stream",
     "text": [
      "2025-05-13 23:47:08,020 INFO sqlalchemy.engine.Engine \n",
      "CREATE TABLE evolutions (\n",
      "\tid INTEGER NOT NULL, \n",
      "\tevolution_chain_id INTEGER NOT NULL, \n",
      "\tpokemon_from_id INTEGER NOT NULL, \n",
      "\tpokemon_to_id INTEGER NOT NULL, \n",
      "\t\"trigger\" VARCHAR(50), \n",
      "\tPRIMARY KEY (id), \n",
      "\tFOREIGN KEY(pokemon_from_id) REFERENCES pokemons (id), \n",
      "\tFOREIGN KEY(pokemon_to_id) REFERENCES pokemons (id)\n",
      ")\n",
      "\n",
      "\n"
     ]
    },
    {
     "name": "stderr",
     "output_type": "stream",
     "text": [
      "\n",
      "CREATE TABLE evolutions (\n",
      "\tid INTEGER NOT NULL, \n",
      "\tevolution_chain_id INTEGER NOT NULL, \n",
      "\tpokemon_from_id INTEGER NOT NULL, \n",
      "\tpokemon_to_id INTEGER NOT NULL, \n",
      "\t\"trigger\" VARCHAR(50), \n",
      "\tPRIMARY KEY (id), \n",
      "\tFOREIGN KEY(pokemon_from_id) REFERENCES pokemons (id), \n",
      "\tFOREIGN KEY(pokemon_to_id) REFERENCES pokemons (id)\n",
      ")\n",
      "\n",
      "\n"
     ]
    },
    {
     "name": "stdout",
     "output_type": "stream",
     "text": [
      "2025-05-13 23:47:08,026 INFO sqlalchemy.engine.Engine [no key 0.00551s] ()\n"
     ]
    },
    {
     "name": "stderr",
     "output_type": "stream",
     "text": [
      "[no key 0.00551s] ()\n"
     ]
    },
    {
     "name": "stdout",
     "output_type": "stream",
     "text": [
      "2025-05-13 23:47:08,034 INFO sqlalchemy.engine.Engine \n",
      "CREATE TABLE pokedex_numbers (\n",
      "\tpokemon_id INTEGER NOT NULL, \n",
      "\tnational INTEGER, \n",
      "\tkanto INTEGER, \n",
      "\toriginal_johto INTEGER, \n",
      "\tupdated_johto INTEGER, \n",
      "\thoenn INTEGER, \n",
      "\toriginal_sinnoh INTEGER, \n",
      "\textended_sinnoh INTEGER, \n",
      "\tunova_bw INTEGER, \n",
      "\tunova_b2w2 INTEGER, \n",
      "\tkalos_central INTEGER, \n",
      "\tkalos_coastal INTEGER, \n",
      "\tkalos_mountain INTEGER, \n",
      "\talola INTEGER, \n",
      "\tmelemele INTEGER, \n",
      "\takala INTEGER, \n",
      "\tulaula INTEGER, \n",
      "\tponi INTEGER, \n",
      "\tgalar INTEGER, \n",
      "\tisle_of_armor INTEGER, \n",
      "\tcrown_tundra INTEGER, \n",
      "\thisui INTEGER, \n",
      "\tpaldea INTEGER, \n",
      "\tPRIMARY KEY (pokemon_id), \n",
      "\tFOREIGN KEY(pokemon_id) REFERENCES pokemons (id)\n",
      ")\n",
      "\n",
      "\n"
     ]
    },
    {
     "name": "stderr",
     "output_type": "stream",
     "text": [
      "\n",
      "CREATE TABLE pokedex_numbers (\n",
      "\tpokemon_id INTEGER NOT NULL, \n",
      "\tnational INTEGER, \n",
      "\tkanto INTEGER, \n",
      "\toriginal_johto INTEGER, \n",
      "\tupdated_johto INTEGER, \n",
      "\thoenn INTEGER, \n",
      "\toriginal_sinnoh INTEGER, \n",
      "\textended_sinnoh INTEGER, \n",
      "\tunova_bw INTEGER, \n",
      "\tunova_b2w2 INTEGER, \n",
      "\tkalos_central INTEGER, \n",
      "\tkalos_coastal INTEGER, \n",
      "\tkalos_mountain INTEGER, \n",
      "\talola INTEGER, \n",
      "\tmelemele INTEGER, \n",
      "\takala INTEGER, \n",
      "\tulaula INTEGER, \n",
      "\tponi INTEGER, \n",
      "\tgalar INTEGER, \n",
      "\tisle_of_armor INTEGER, \n",
      "\tcrown_tundra INTEGER, \n",
      "\thisui INTEGER, \n",
      "\tpaldea INTEGER, \n",
      "\tPRIMARY KEY (pokemon_id), \n",
      "\tFOREIGN KEY(pokemon_id) REFERENCES pokemons (id)\n",
      ")\n",
      "\n",
      "\n"
     ]
    },
    {
     "name": "stdout",
     "output_type": "stream",
     "text": [
      "2025-05-13 23:47:08,038 INFO sqlalchemy.engine.Engine [no key 0.00376s] ()\n"
     ]
    },
    {
     "name": "stderr",
     "output_type": "stream",
     "text": [
      "[no key 0.00376s] ()\n"
     ]
    },
    {
     "name": "stdout",
     "output_type": "stream",
     "text": [
      "2025-05-13 23:47:08,048 INFO sqlalchemy.engine.Engine \n",
      "CREATE TABLE pokemons_abilities (\n",
      "\tpokemon_id INTEGER NOT NULL, \n",
      "\tability_id INTEGER NOT NULL, \n",
      "\tability_name VARCHAR(30) NOT NULL, \n",
      "\tis_hidden BOOLEAN NOT NULL, \n",
      "\tslot INTEGER NOT NULL, \n",
      "\tPRIMARY KEY (pokemon_id, slot), \n",
      "\tFOREIGN KEY(pokemon_id) REFERENCES pokemons (id), \n",
      "\tFOREIGN KEY(ability_id) REFERENCES abilities (id), \n",
      "\tFOREIGN KEY(ability_name) REFERENCES abilities (name)\n",
      ")\n",
      "\n",
      "\n"
     ]
    },
    {
     "name": "stderr",
     "output_type": "stream",
     "text": [
      "\n",
      "CREATE TABLE pokemons_abilities (\n",
      "\tpokemon_id INTEGER NOT NULL, \n",
      "\tability_id INTEGER NOT NULL, \n",
      "\tability_name VARCHAR(30) NOT NULL, \n",
      "\tis_hidden BOOLEAN NOT NULL, \n",
      "\tslot INTEGER NOT NULL, \n",
      "\tPRIMARY KEY (pokemon_id, slot), \n",
      "\tFOREIGN KEY(pokemon_id) REFERENCES pokemons (id), \n",
      "\tFOREIGN KEY(ability_id) REFERENCES abilities (id), \n",
      "\tFOREIGN KEY(ability_name) REFERENCES abilities (name)\n",
      ")\n",
      "\n",
      "\n"
     ]
    },
    {
     "name": "stdout",
     "output_type": "stream",
     "text": [
      "2025-05-13 23:47:08,052 INFO sqlalchemy.engine.Engine [no key 0.00380s] ()\n"
     ]
    },
    {
     "name": "stderr",
     "output_type": "stream",
     "text": [
      "[no key 0.00380s] ()\n"
     ]
    },
    {
     "name": "stdout",
     "output_type": "stream",
     "text": [
      "2025-05-13 23:47:08,064 INFO sqlalchemy.engine.Engine \n",
      "CREATE TABLE pokemon_details (\n",
      "\tpokemon_id INTEGER NOT NULL, \n",
      "\tspecies_id INTEGER NOT NULL, \n",
      "\theight_m INTEGER NOT NULL, \n",
      "\tweight_kg INTEGER NOT NULL, \n",
      "\tbase_experience INTEGER, \n",
      "\t\"order\" INTEGER, \n",
      "\tis_default BOOLEAN NOT NULL, \n",
      "\tis_legendary BOOLEAN NOT NULL, \n",
      "\tis_mythical BOOLEAN NOT NULL, \n",
      "\tis_baby BOOLEAN NOT NULL, \n",
      "\tgender_rate INTEGER, \n",
      "\tcapture_rate INTEGER, \n",
      "\tbase_happiness INTEGER, \n",
      "\thatch_counter INTEGER, \n",
      "\thas_gender_differences BOOLEAN, \n",
      "\tforms_switchable BOOLEAN, \n",
      "\tegg_group_1 VARCHAR(20), \n",
      "\tegg_group_2 VARCHAR(20), \n",
      "\tcolor VARCHAR(20), \n",
      "\tshape VARCHAR(20), \n",
      "\tevolves_from_species_id INTEGER, \n",
      "\tevolution_chain_id INTEGER, \n",
      "\thabitat VARCHAR(20), \n",
      "\tgeneration VARCHAR(20), \n",
      "\tgrowth_rate VARCHAR(20), \n",
      "\tPRIMARY KEY (pokemon_id), \n",
      "\tFOREIGN KEY(pokemon_id) REFERENCES pokemons (id)\n",
      ")\n",
      "\n",
      "\n"
     ]
    },
    {
     "name": "stderr",
     "output_type": "stream",
     "text": [
      "\n",
      "CREATE TABLE pokemon_details (\n",
      "\tpokemon_id INTEGER NOT NULL, \n",
      "\tspecies_id INTEGER NOT NULL, \n",
      "\theight_m INTEGER NOT NULL, \n",
      "\tweight_kg INTEGER NOT NULL, \n",
      "\tbase_experience INTEGER, \n",
      "\t\"order\" INTEGER, \n",
      "\tis_default BOOLEAN NOT NULL, \n",
      "\tis_legendary BOOLEAN NOT NULL, \n",
      "\tis_mythical BOOLEAN NOT NULL, \n",
      "\tis_baby BOOLEAN NOT NULL, \n",
      "\tgender_rate INTEGER, \n",
      "\tcapture_rate INTEGER, \n",
      "\tbase_happiness INTEGER, \n",
      "\thatch_counter INTEGER, \n",
      "\thas_gender_differences BOOLEAN, \n",
      "\tforms_switchable BOOLEAN, \n",
      "\tegg_group_1 VARCHAR(20), \n",
      "\tegg_group_2 VARCHAR(20), \n",
      "\tcolor VARCHAR(20), \n",
      "\tshape VARCHAR(20), \n",
      "\tevolves_from_species_id INTEGER, \n",
      "\tevolution_chain_id INTEGER, \n",
      "\thabitat VARCHAR(20), \n",
      "\tgeneration VARCHAR(20), \n",
      "\tgrowth_rate VARCHAR(20), \n",
      "\tPRIMARY KEY (pokemon_id), \n",
      "\tFOREIGN KEY(pokemon_id) REFERENCES pokemons (id)\n",
      ")\n",
      "\n",
      "\n"
     ]
    },
    {
     "name": "stdout",
     "output_type": "stream",
     "text": [
      "2025-05-13 23:47:08,069 INFO sqlalchemy.engine.Engine [no key 0.00514s] ()\n"
     ]
    },
    {
     "name": "stderr",
     "output_type": "stream",
     "text": [
      "[no key 0.00514s] ()\n"
     ]
    },
    {
     "name": "stdout",
     "output_type": "stream",
     "text": [
      "2025-05-13 23:47:08,080 INFO sqlalchemy.engine.Engine \n",
      "CREATE TABLE pokemons_learnsets (\n",
      "\tid INTEGER NOT NULL, \n",
      "\tpokemon_id INTEGER NOT NULL, \n",
      "\tmove_id INTEGER NOT NULL, \n",
      "\tmove_name VARCHAR(100) NOT NULL, \n",
      "\tmethod VARCHAR(100) NOT NULL, \n",
      "\tlevel INTEGER, \n",
      "\tversion_group VARCHAR(100) NOT NULL, \n",
      "\tPRIMARY KEY (id), \n",
      "\tFOREIGN KEY(pokemon_id) REFERENCES pokemons (id), \n",
      "\tFOREIGN KEY(move_id) REFERENCES moves (id), \n",
      "\tFOREIGN KEY(version_group) REFERENCES games (version_group)\n",
      ")\n",
      "\n",
      "\n"
     ]
    },
    {
     "name": "stderr",
     "output_type": "stream",
     "text": [
      "\n",
      "CREATE TABLE pokemons_learnsets (\n",
      "\tid INTEGER NOT NULL, \n",
      "\tpokemon_id INTEGER NOT NULL, \n",
      "\tmove_id INTEGER NOT NULL, \n",
      "\tmove_name VARCHAR(100) NOT NULL, \n",
      "\tmethod VARCHAR(100) NOT NULL, \n",
      "\tlevel INTEGER, \n",
      "\tversion_group VARCHAR(100) NOT NULL, \n",
      "\tPRIMARY KEY (id), \n",
      "\tFOREIGN KEY(pokemon_id) REFERENCES pokemons (id), \n",
      "\tFOREIGN KEY(move_id) REFERENCES moves (id), \n",
      "\tFOREIGN KEY(version_group) REFERENCES games (version_group)\n",
      ")\n",
      "\n",
      "\n"
     ]
    },
    {
     "name": "stdout",
     "output_type": "stream",
     "text": [
      "2025-05-13 23:47:08,084 INFO sqlalchemy.engine.Engine [no key 0.00391s] ()\n"
     ]
    },
    {
     "name": "stderr",
     "output_type": "stream",
     "text": [
      "[no key 0.00391s] ()\n"
     ]
    },
    {
     "name": "stdout",
     "output_type": "stream",
     "text": [
      "2025-05-13 23:47:08,096 INFO sqlalchemy.engine.Engine CREATE INDEX ix_pokemons_learnsets_version_group ON pokemons_learnsets (version_group)\n"
     ]
    },
    {
     "name": "stderr",
     "output_type": "stream",
     "text": [
      "CREATE INDEX ix_pokemons_learnsets_version_group ON pokemons_learnsets (version_group)\n"
     ]
    },
    {
     "name": "stdout",
     "output_type": "stream",
     "text": [
      "2025-05-13 23:47:08,102 INFO sqlalchemy.engine.Engine [no key 0.00635s] ()\n"
     ]
    },
    {
     "name": "stderr",
     "output_type": "stream",
     "text": [
      "[no key 0.00635s] ()\n"
     ]
    },
    {
     "name": "stdout",
     "output_type": "stream",
     "text": [
      "2025-05-13 23:47:08,113 INFO sqlalchemy.engine.Engine CREATE INDEX ix_pokemons_learnsets_pokemon_id ON pokemons_learnsets (pokemon_id)\n"
     ]
    },
    {
     "name": "stderr",
     "output_type": "stream",
     "text": [
      "CREATE INDEX ix_pokemons_learnsets_pokemon_id ON pokemons_learnsets (pokemon_id)\n"
     ]
    },
    {
     "name": "stdout",
     "output_type": "stream",
     "text": [
      "2025-05-13 23:47:08,117 INFO sqlalchemy.engine.Engine [no key 0.00386s] ()\n"
     ]
    },
    {
     "name": "stderr",
     "output_type": "stream",
     "text": [
      "[no key 0.00386s] ()\n"
     ]
    },
    {
     "name": "stdout",
     "output_type": "stream",
     "text": [
      "2025-05-13 23:47:08,129 INFO sqlalchemy.engine.Engine \n",
      "CREATE TABLE pokemon_sprites (\n",
      "\tpokemon_id INTEGER NOT NULL, \n",
      "\tfront_default VARCHAR, \n",
      "\tback_default VARCHAR, \n",
      "\tfront_shiny VARCHAR, \n",
      "\tback_shiny VARCHAR, \n",
      "\tofficial_artwork VARCHAR, \n",
      "\tofficial_artwork_shiny VARCHAR, \n",
      "\tdream_world VARCHAR, \n",
      "\thome_default VARCHAR, \n",
      "\thome_shiny VARCHAR, \n",
      "\tpokemon_go VARCHAR, \n",
      "\tpokemon_go_shiny VARCHAR, \n",
      "\tPRIMARY KEY (pokemon_id), \n",
      "\tFOREIGN KEY(pokemon_id) REFERENCES pokemons (id)\n",
      ")\n",
      "\n",
      "\n"
     ]
    },
    {
     "name": "stderr",
     "output_type": "stream",
     "text": [
      "\n",
      "CREATE TABLE pokemon_sprites (\n",
      "\tpokemon_id INTEGER NOT NULL, \n",
      "\tfront_default VARCHAR, \n",
      "\tback_default VARCHAR, \n",
      "\tfront_shiny VARCHAR, \n",
      "\tback_shiny VARCHAR, \n",
      "\tofficial_artwork VARCHAR, \n",
      "\tofficial_artwork_shiny VARCHAR, \n",
      "\tdream_world VARCHAR, \n",
      "\thome_default VARCHAR, \n",
      "\thome_shiny VARCHAR, \n",
      "\tpokemon_go VARCHAR, \n",
      "\tpokemon_go_shiny VARCHAR, \n",
      "\tPRIMARY KEY (pokemon_id), \n",
      "\tFOREIGN KEY(pokemon_id) REFERENCES pokemons (id)\n",
      ")\n",
      "\n",
      "\n"
     ]
    },
    {
     "name": "stdout",
     "output_type": "stream",
     "text": [
      "2025-05-13 23:47:08,132 INFO sqlalchemy.engine.Engine [no key 0.00322s] ()\n"
     ]
    },
    {
     "name": "stderr",
     "output_type": "stream",
     "text": [
      "[no key 0.00322s] ()\n"
     ]
    },
    {
     "name": "stdout",
     "output_type": "stream",
     "text": [
      "2025-05-13 23:47:08,141 INFO sqlalchemy.engine.Engine \n",
      "CREATE TABLE pokemon_stats (\n",
      "\tpokemon_id INTEGER NOT NULL, \n",
      "\thp INTEGER NOT NULL, \n",
      "\tattack INTEGER NOT NULL, \n",
      "\tdefense INTEGER NOT NULL, \n",
      "\tspecial_attack INTEGER NOT NULL, \n",
      "\tspecial_defense INTEGER NOT NULL, \n",
      "\tspeed INTEGER NOT NULL, \n",
      "\tPRIMARY KEY (pokemon_id), \n",
      "\tFOREIGN KEY(pokemon_id) REFERENCES pokemons (id)\n",
      ")\n",
      "\n",
      "\n"
     ]
    },
    {
     "name": "stderr",
     "output_type": "stream",
     "text": [
      "\n",
      "CREATE TABLE pokemon_stats (\n",
      "\tpokemon_id INTEGER NOT NULL, \n",
      "\thp INTEGER NOT NULL, \n",
      "\tattack INTEGER NOT NULL, \n",
      "\tdefense INTEGER NOT NULL, \n",
      "\tspecial_attack INTEGER NOT NULL, \n",
      "\tspecial_defense INTEGER NOT NULL, \n",
      "\tspeed INTEGER NOT NULL, \n",
      "\tPRIMARY KEY (pokemon_id), \n",
      "\tFOREIGN KEY(pokemon_id) REFERENCES pokemons (id)\n",
      ")\n",
      "\n",
      "\n"
     ]
    },
    {
     "name": "stdout",
     "output_type": "stream",
     "text": [
      "2025-05-13 23:47:08,146 INFO sqlalchemy.engine.Engine [no key 0.00494s] ()\n"
     ]
    },
    {
     "name": "stderr",
     "output_type": "stream",
     "text": [
      "[no key 0.00494s] ()\n"
     ]
    },
    {
     "name": "stdout",
     "output_type": "stream",
     "text": [
      "2025-05-13 23:47:08,154 INFO sqlalchemy.engine.Engine COMMIT\n"
     ]
    },
    {
     "name": "stderr",
     "output_type": "stream",
     "text": [
      "COMMIT\n"
     ]
    }
   ],
   "source": [
    "from app.db.local_build import LocalDatabase\n",
    "from pathlib import Path\n",
    "import logging\n",
    "logging.basicConfig(level=logging.CRITICAL)\n",
    "logging.getLogger().setLevel(logging.CRITICAL)\n",
    "logging.getLogger('sqlalchemy').setLevel(logging.CRITICAL)\n",
    "TEST_DB_PATH = Path('test.db')\n",
    "LocalDatabase().build(TEST_DB_PATH)"
   ]
  },
  {
   "cell_type": "markdown",
   "metadata": {},
   "source": [
    "<span style=\"color: red\">⚠️ Danger zone ⚠️</span>"
   ]
  },
  {
   "cell_type": "markdown",
   "metadata": {},
   "source": [
    "`DROP TABLES`"
   ]
  },
  {
   "cell_type": "code",
   "execution_count": 12,
   "metadata": {},
   "outputs": [],
   "source": [
    "from sqlalchemy import create_engine, text\n",
    "from pathlib import Path\n",
    "\n",
    "DB_PATH = Path(\"app/db/test.db\")\n",
    "if DB_PATH.exists():\n",
    "    engine = create_engine(f\"sqlite:///{DB_PATH}\", connect_args={\"check_same_thread\": False})\n",
    "\n",
    "    with engine.connect() as conn:\n",
    "        conn.execute(text(\"PRAGMA foreign_keys=OFF;\"))\n",
    "        conn.commit()\n",
    "\n",
    "        # Récupère toutes les tables\n",
    "        result = conn.execute(text(\n",
    "            \"SELECT name FROM sqlite_master WHERE type='table' AND name NOT LIKE 'sqlite_%';\"\n",
    "        ))\n",
    "        tables = [row[0] for row in result]\n",
    "\n",
    "        # Vide chaque table\n",
    "        for table in tables:\n",
    "            conn.execute(text(f\"DELETE FROM {table};\"))\n",
    "        conn.commit()\n",
    "\n",
    "    engine.dispose()\n"
   ]
  },
  {
   "cell_type": "markdown",
   "metadata": {},
   "source": [
    "`DELETE DATABASE`"
   ]
  },
  {
   "cell_type": "code",
   "execution_count": 3,
   "metadata": {},
   "outputs": [],
   "source": [
    "import os\n",
    "from pathlib import Path\n",
    "if Path('app/db/PKMN.db').exists():\n",
    "    os.remove(Path('app/db/test.db'))\n"
   ]
  }
 ],
 "metadata": {
  "kernelspec": {
   "display_name": ".venv",
   "language": "python",
   "name": "python3"
  },
  "language_info": {
   "codemirror_mode": {
    "name": "ipython",
    "version": 3
   },
   "file_extension": ".py",
   "mimetype": "text/x-python",
   "name": "python",
   "nbconvert_exporter": "python",
   "pygments_lexer": "ipython3",
   "version": "3.12.10"
  }
 },
 "nbformat": 4,
 "nbformat_minor": 2
}
