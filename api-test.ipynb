{
 "cells": [
  {
   "cell_type": "code",
   "execution_count": 1,
   "metadata": {},
   "outputs": [
    {
     "name": "stdout",
     "output_type": "stream",
     "text": [
      "2025-05-11 17:27:56,321 INFO sqlalchemy.engine.Engine BEGIN (implicit)\n"
     ]
    },
    {
     "name": "stderr",
     "output_type": "stream",
     "text": [
      "BEGIN (implicit)\n"
     ]
    },
    {
     "name": "stdout",
     "output_type": "stream",
     "text": [
      "2025-05-11 17:27:56,333 INFO sqlalchemy.engine.Engine PRAGMA main.table_info(\"abilities\")\n"
     ]
    },
    {
     "name": "stderr",
     "output_type": "stream",
     "text": [
      "PRAGMA main.table_info(\"abilities\")\n"
     ]
    },
    {
     "name": "stdout",
     "output_type": "stream",
     "text": [
      "2025-05-11 17:27:56,480 INFO sqlalchemy.engine.Engine [raw sql] ()\n"
     ]
    },
    {
     "name": "stderr",
     "output_type": "stream",
     "text": [
      "[raw sql] ()\n"
     ]
    },
    {
     "name": "stdout",
     "output_type": "stream",
     "text": [
      "2025-05-11 17:27:56,485 INFO sqlalchemy.engine.Engine PRAGMA temp.table_info(\"abilities\")\n"
     ]
    },
    {
     "name": "stderr",
     "output_type": "stream",
     "text": [
      "PRAGMA temp.table_info(\"abilities\")\n"
     ]
    },
    {
     "name": "stdout",
     "output_type": "stream",
     "text": [
      "2025-05-11 17:27:56,488 INFO sqlalchemy.engine.Engine [raw sql] ()\n"
     ]
    },
    {
     "name": "stderr",
     "output_type": "stream",
     "text": [
      "[raw sql] ()\n"
     ]
    },
    {
     "name": "stdout",
     "output_type": "stream",
     "text": [
      "2025-05-11 17:27:56,494 INFO sqlalchemy.engine.Engine PRAGMA main.table_info(\"evolutions\")\n"
     ]
    },
    {
     "name": "stderr",
     "output_type": "stream",
     "text": [
      "PRAGMA main.table_info(\"evolutions\")\n"
     ]
    },
    {
     "name": "stdout",
     "output_type": "stream",
     "text": [
      "2025-05-11 17:27:56,497 INFO sqlalchemy.engine.Engine [raw sql] ()\n"
     ]
    },
    {
     "name": "stderr",
     "output_type": "stream",
     "text": [
      "[raw sql] ()\n"
     ]
    },
    {
     "name": "stdout",
     "output_type": "stream",
     "text": [
      "2025-05-11 17:27:56,506 INFO sqlalchemy.engine.Engine PRAGMA temp.table_info(\"evolutions\")\n"
     ]
    },
    {
     "name": "stderr",
     "output_type": "stream",
     "text": [
      "PRAGMA temp.table_info(\"evolutions\")\n"
     ]
    },
    {
     "name": "stdout",
     "output_type": "stream",
     "text": [
      "2025-05-11 17:27:56,510 INFO sqlalchemy.engine.Engine [raw sql] ()\n"
     ]
    },
    {
     "name": "stderr",
     "output_type": "stream",
     "text": [
      "[raw sql] ()\n"
     ]
    },
    {
     "name": "stdout",
     "output_type": "stream",
     "text": [
      "2025-05-11 17:27:56,524 INFO sqlalchemy.engine.Engine PRAGMA main.table_info(\"games\")\n"
     ]
    },
    {
     "name": "stderr",
     "output_type": "stream",
     "text": [
      "PRAGMA main.table_info(\"games\")\n"
     ]
    },
    {
     "name": "stdout",
     "output_type": "stream",
     "text": [
      "2025-05-11 17:27:56,538 INFO sqlalchemy.engine.Engine [raw sql] ()\n"
     ]
    },
    {
     "name": "stderr",
     "output_type": "stream",
     "text": [
      "[raw sql] ()\n"
     ]
    },
    {
     "name": "stdout",
     "output_type": "stream",
     "text": [
      "2025-05-11 17:27:56,557 INFO sqlalchemy.engine.Engine PRAGMA temp.table_info(\"games\")\n"
     ]
    },
    {
     "name": "stderr",
     "output_type": "stream",
     "text": [
      "PRAGMA temp.table_info(\"games\")\n"
     ]
    },
    {
     "name": "stdout",
     "output_type": "stream",
     "text": [
      "2025-05-11 17:27:56,565 INFO sqlalchemy.engine.Engine [raw sql] ()\n"
     ]
    },
    {
     "name": "stderr",
     "output_type": "stream",
     "text": [
      "[raw sql] ()\n"
     ]
    },
    {
     "name": "stdout",
     "output_type": "stream",
     "text": [
      "2025-05-11 17:27:56,580 INFO sqlalchemy.engine.Engine PRAGMA main.table_info(\"machines\")\n"
     ]
    },
    {
     "name": "stderr",
     "output_type": "stream",
     "text": [
      "PRAGMA main.table_info(\"machines\")\n"
     ]
    },
    {
     "name": "stdout",
     "output_type": "stream",
     "text": [
      "2025-05-11 17:27:56,584 INFO sqlalchemy.engine.Engine [raw sql] ()\n"
     ]
    },
    {
     "name": "stderr",
     "output_type": "stream",
     "text": [
      "[raw sql] ()\n"
     ]
    },
    {
     "name": "stdout",
     "output_type": "stream",
     "text": [
      "2025-05-11 17:27:56,652 INFO sqlalchemy.engine.Engine PRAGMA temp.table_info(\"machines\")\n"
     ]
    },
    {
     "name": "stderr",
     "output_type": "stream",
     "text": [
      "PRAGMA temp.table_info(\"machines\")\n"
     ]
    },
    {
     "name": "stdout",
     "output_type": "stream",
     "text": [
      "2025-05-11 17:27:56,662 INFO sqlalchemy.engine.Engine [raw sql] ()\n"
     ]
    },
    {
     "name": "stderr",
     "output_type": "stream",
     "text": [
      "[raw sql] ()\n"
     ]
    },
    {
     "name": "stdout",
     "output_type": "stream",
     "text": [
      "2025-05-11 17:27:56,674 INFO sqlalchemy.engine.Engine PRAGMA main.table_info(\"moves\")\n"
     ]
    },
    {
     "name": "stderr",
     "output_type": "stream",
     "text": [
      "PRAGMA main.table_info(\"moves\")\n"
     ]
    },
    {
     "name": "stdout",
     "output_type": "stream",
     "text": [
      "2025-05-11 17:27:56,680 INFO sqlalchemy.engine.Engine [raw sql] ()\n"
     ]
    },
    {
     "name": "stderr",
     "output_type": "stream",
     "text": [
      "[raw sql] ()\n"
     ]
    },
    {
     "name": "stdout",
     "output_type": "stream",
     "text": [
      "2025-05-11 17:27:56,690 INFO sqlalchemy.engine.Engine PRAGMA temp.table_info(\"moves\")\n"
     ]
    },
    {
     "name": "stderr",
     "output_type": "stream",
     "text": [
      "PRAGMA temp.table_info(\"moves\")\n"
     ]
    },
    {
     "name": "stdout",
     "output_type": "stream",
     "text": [
      "2025-05-11 17:27:56,696 INFO sqlalchemy.engine.Engine [raw sql] ()\n"
     ]
    },
    {
     "name": "stderr",
     "output_type": "stream",
     "text": [
      "[raw sql] ()\n"
     ]
    },
    {
     "name": "stdout",
     "output_type": "stream",
     "text": [
      "2025-05-11 17:27:56,701 INFO sqlalchemy.engine.Engine PRAGMA main.table_info(\"pokedex_numbers\")\n"
     ]
    },
    {
     "name": "stderr",
     "output_type": "stream",
     "text": [
      "PRAGMA main.table_info(\"pokedex_numbers\")\n"
     ]
    },
    {
     "name": "stdout",
     "output_type": "stream",
     "text": [
      "2025-05-11 17:27:56,713 INFO sqlalchemy.engine.Engine [raw sql] ()\n"
     ]
    },
    {
     "name": "stderr",
     "output_type": "stream",
     "text": [
      "[raw sql] ()\n"
     ]
    },
    {
     "name": "stdout",
     "output_type": "stream",
     "text": [
      "2025-05-11 17:27:56,723 INFO sqlalchemy.engine.Engine PRAGMA temp.table_info(\"pokedex_numbers\")\n"
     ]
    },
    {
     "name": "stderr",
     "output_type": "stream",
     "text": [
      "PRAGMA temp.table_info(\"pokedex_numbers\")\n"
     ]
    },
    {
     "name": "stdout",
     "output_type": "stream",
     "text": [
      "2025-05-11 17:27:56,829 INFO sqlalchemy.engine.Engine [raw sql] ()\n"
     ]
    },
    {
     "name": "stderr",
     "output_type": "stream",
     "text": [
      "[raw sql] ()\n"
     ]
    },
    {
     "name": "stdout",
     "output_type": "stream",
     "text": [
      "2025-05-11 17:27:56,865 INFO sqlalchemy.engine.Engine PRAGMA main.table_info(\"pokemons\")\n"
     ]
    },
    {
     "name": "stderr",
     "output_type": "stream",
     "text": [
      "PRAGMA main.table_info(\"pokemons\")\n"
     ]
    },
    {
     "name": "stdout",
     "output_type": "stream",
     "text": [
      "2025-05-11 17:27:56,876 INFO sqlalchemy.engine.Engine [raw sql] ()\n"
     ]
    },
    {
     "name": "stderr",
     "output_type": "stream",
     "text": [
      "[raw sql] ()\n"
     ]
    },
    {
     "name": "stdout",
     "output_type": "stream",
     "text": [
      "2025-05-11 17:27:56,883 INFO sqlalchemy.engine.Engine PRAGMA temp.table_info(\"pokemons\")\n"
     ]
    },
    {
     "name": "stderr",
     "output_type": "stream",
     "text": [
      "PRAGMA temp.table_info(\"pokemons\")\n"
     ]
    },
    {
     "name": "stdout",
     "output_type": "stream",
     "text": [
      "2025-05-11 17:27:56,889 INFO sqlalchemy.engine.Engine [raw sql] ()\n"
     ]
    },
    {
     "name": "stderr",
     "output_type": "stream",
     "text": [
      "[raw sql] ()\n"
     ]
    },
    {
     "name": "stdout",
     "output_type": "stream",
     "text": [
      "2025-05-11 17:27:56,894 INFO sqlalchemy.engine.Engine PRAGMA main.table_info(\"pokemons_abilities\")\n"
     ]
    },
    {
     "name": "stderr",
     "output_type": "stream",
     "text": [
      "PRAGMA main.table_info(\"pokemons_abilities\")\n"
     ]
    },
    {
     "name": "stdout",
     "output_type": "stream",
     "text": [
      "2025-05-11 17:27:56,903 INFO sqlalchemy.engine.Engine [raw sql] ()\n"
     ]
    },
    {
     "name": "stderr",
     "output_type": "stream",
     "text": [
      "[raw sql] ()\n"
     ]
    },
    {
     "name": "stdout",
     "output_type": "stream",
     "text": [
      "2025-05-11 17:27:56,909 INFO sqlalchemy.engine.Engine PRAGMA temp.table_info(\"pokemons_abilities\")\n"
     ]
    },
    {
     "name": "stderr",
     "output_type": "stream",
     "text": [
      "PRAGMA temp.table_info(\"pokemons_abilities\")\n"
     ]
    },
    {
     "name": "stdout",
     "output_type": "stream",
     "text": [
      "2025-05-11 17:27:56,915 INFO sqlalchemy.engine.Engine [raw sql] ()\n"
     ]
    },
    {
     "name": "stderr",
     "output_type": "stream",
     "text": [
      "[raw sql] ()\n"
     ]
    },
    {
     "name": "stdout",
     "output_type": "stream",
     "text": [
      "2025-05-11 17:27:56,933 INFO sqlalchemy.engine.Engine PRAGMA main.table_info(\"pokemon_details\")\n"
     ]
    },
    {
     "name": "stderr",
     "output_type": "stream",
     "text": [
      "PRAGMA main.table_info(\"pokemon_details\")\n"
     ]
    },
    {
     "name": "stdout",
     "output_type": "stream",
     "text": [
      "2025-05-11 17:27:56,939 INFO sqlalchemy.engine.Engine [raw sql] ()\n"
     ]
    },
    {
     "name": "stderr",
     "output_type": "stream",
     "text": [
      "[raw sql] ()\n"
     ]
    },
    {
     "name": "stdout",
     "output_type": "stream",
     "text": [
      "2025-05-11 17:27:56,950 INFO sqlalchemy.engine.Engine PRAGMA temp.table_info(\"pokemon_details\")\n"
     ]
    },
    {
     "name": "stderr",
     "output_type": "stream",
     "text": [
      "PRAGMA temp.table_info(\"pokemon_details\")\n"
     ]
    },
    {
     "name": "stdout",
     "output_type": "stream",
     "text": [
      "2025-05-11 17:27:56,959 INFO sqlalchemy.engine.Engine [raw sql] ()\n"
     ]
    },
    {
     "name": "stderr",
     "output_type": "stream",
     "text": [
      "[raw sql] ()\n"
     ]
    },
    {
     "name": "stdout",
     "output_type": "stream",
     "text": [
      "2025-05-11 17:27:56,966 INFO sqlalchemy.engine.Engine PRAGMA main.table_info(\"pokemons_learnsets\")\n"
     ]
    },
    {
     "name": "stderr",
     "output_type": "stream",
     "text": [
      "PRAGMA main.table_info(\"pokemons_learnsets\")\n"
     ]
    },
    {
     "name": "stdout",
     "output_type": "stream",
     "text": [
      "2025-05-11 17:27:56,974 INFO sqlalchemy.engine.Engine [raw sql] ()\n"
     ]
    },
    {
     "name": "stderr",
     "output_type": "stream",
     "text": [
      "[raw sql] ()\n"
     ]
    },
    {
     "name": "stdout",
     "output_type": "stream",
     "text": [
      "2025-05-11 17:27:57,010 INFO sqlalchemy.engine.Engine PRAGMA temp.table_info(\"pokemons_learnsets\")\n"
     ]
    },
    {
     "name": "stderr",
     "output_type": "stream",
     "text": [
      "PRAGMA temp.table_info(\"pokemons_learnsets\")\n"
     ]
    },
    {
     "name": "stdout",
     "output_type": "stream",
     "text": [
      "2025-05-11 17:27:57,029 INFO sqlalchemy.engine.Engine [raw sql] ()\n"
     ]
    },
    {
     "name": "stderr",
     "output_type": "stream",
     "text": [
      "[raw sql] ()\n"
     ]
    },
    {
     "name": "stdout",
     "output_type": "stream",
     "text": [
      "2025-05-11 17:27:57,041 INFO sqlalchemy.engine.Engine PRAGMA main.table_info(\"pokemon_sprites\")\n"
     ]
    },
    {
     "name": "stderr",
     "output_type": "stream",
     "text": [
      "PRAGMA main.table_info(\"pokemon_sprites\")\n"
     ]
    },
    {
     "name": "stdout",
     "output_type": "stream",
     "text": [
      "2025-05-11 17:27:57,053 INFO sqlalchemy.engine.Engine [raw sql] ()\n"
     ]
    },
    {
     "name": "stderr",
     "output_type": "stream",
     "text": [
      "[raw sql] ()\n"
     ]
    },
    {
     "name": "stdout",
     "output_type": "stream",
     "text": [
      "2025-05-11 17:27:57,068 INFO sqlalchemy.engine.Engine PRAGMA temp.table_info(\"pokemon_sprites\")\n"
     ]
    },
    {
     "name": "stderr",
     "output_type": "stream",
     "text": [
      "PRAGMA temp.table_info(\"pokemon_sprites\")\n"
     ]
    },
    {
     "name": "stdout",
     "output_type": "stream",
     "text": [
      "2025-05-11 17:27:57,072 INFO sqlalchemy.engine.Engine [raw sql] ()\n"
     ]
    },
    {
     "name": "stderr",
     "output_type": "stream",
     "text": [
      "[raw sql] ()\n"
     ]
    },
    {
     "name": "stdout",
     "output_type": "stream",
     "text": [
      "2025-05-11 17:27:57,091 INFO sqlalchemy.engine.Engine PRAGMA main.table_info(\"pokemon_stats\")\n"
     ]
    },
    {
     "name": "stderr",
     "output_type": "stream",
     "text": [
      "PRAGMA main.table_info(\"pokemon_stats\")\n"
     ]
    },
    {
     "name": "stdout",
     "output_type": "stream",
     "text": [
      "2025-05-11 17:27:57,129 INFO sqlalchemy.engine.Engine [raw sql] ()\n"
     ]
    },
    {
     "name": "stderr",
     "output_type": "stream",
     "text": [
      "[raw sql] ()\n"
     ]
    },
    {
     "name": "stdout",
     "output_type": "stream",
     "text": [
      "2025-05-11 17:27:57,194 INFO sqlalchemy.engine.Engine PRAGMA temp.table_info(\"pokemon_stats\")\n"
     ]
    },
    {
     "name": "stderr",
     "output_type": "stream",
     "text": [
      "PRAGMA temp.table_info(\"pokemon_stats\")\n"
     ]
    },
    {
     "name": "stdout",
     "output_type": "stream",
     "text": [
      "2025-05-11 17:27:57,203 INFO sqlalchemy.engine.Engine [raw sql] ()\n"
     ]
    },
    {
     "name": "stderr",
     "output_type": "stream",
     "text": [
      "[raw sql] ()\n"
     ]
    },
    {
     "name": "stdout",
     "output_type": "stream",
     "text": [
      "2025-05-11 17:27:57,212 INFO sqlalchemy.engine.Engine PRAGMA main.table_info(\"types\")\n"
     ]
    },
    {
     "name": "stderr",
     "output_type": "stream",
     "text": [
      "PRAGMA main.table_info(\"types\")\n"
     ]
    },
    {
     "name": "stdout",
     "output_type": "stream",
     "text": [
      "2025-05-11 17:27:57,221 INFO sqlalchemy.engine.Engine [raw sql] ()\n"
     ]
    },
    {
     "name": "stderr",
     "output_type": "stream",
     "text": [
      "[raw sql] ()\n"
     ]
    },
    {
     "name": "stdout",
     "output_type": "stream",
     "text": [
      "2025-05-11 17:27:57,341 INFO sqlalchemy.engine.Engine PRAGMA temp.table_info(\"types\")\n"
     ]
    },
    {
     "name": "stderr",
     "output_type": "stream",
     "text": [
      "PRAGMA temp.table_info(\"types\")\n"
     ]
    },
    {
     "name": "stdout",
     "output_type": "stream",
     "text": [
      "2025-05-11 17:27:57,348 INFO sqlalchemy.engine.Engine [raw sql] ()\n"
     ]
    },
    {
     "name": "stderr",
     "output_type": "stream",
     "text": [
      "[raw sql] ()\n"
     ]
    },
    {
     "name": "stdout",
     "output_type": "stream",
     "text": [
      "2025-05-11 17:27:57,360 INFO sqlalchemy.engine.Engine PRAGMA main.table_info(\"types_effectiveness\")\n"
     ]
    },
    {
     "name": "stderr",
     "output_type": "stream",
     "text": [
      "PRAGMA main.table_info(\"types_effectiveness\")\n"
     ]
    },
    {
     "name": "stdout",
     "output_type": "stream",
     "text": [
      "2025-05-11 17:27:57,368 INFO sqlalchemy.engine.Engine [raw sql] ()\n"
     ]
    },
    {
     "name": "stderr",
     "output_type": "stream",
     "text": [
      "[raw sql] ()\n"
     ]
    },
    {
     "name": "stdout",
     "output_type": "stream",
     "text": [
      "2025-05-11 17:27:57,375 INFO sqlalchemy.engine.Engine PRAGMA temp.table_info(\"types_effectiveness\")\n"
     ]
    },
    {
     "name": "stderr",
     "output_type": "stream",
     "text": [
      "PRAGMA temp.table_info(\"types_effectiveness\")\n"
     ]
    },
    {
     "name": "stdout",
     "output_type": "stream",
     "text": [
      "2025-05-11 17:27:57,384 INFO sqlalchemy.engine.Engine [raw sql] ()\n"
     ]
    },
    {
     "name": "stderr",
     "output_type": "stream",
     "text": [
      "[raw sql] ()\n"
     ]
    },
    {
     "name": "stdout",
     "output_type": "stream",
     "text": [
      "2025-05-11 17:27:57,392 INFO sqlalchemy.engine.Engine \n",
      "CREATE TABLE abilities (\n",
      "\tid INTEGER NOT NULL, \n",
      "\tname VARCHAR(30) NOT NULL, \n",
      "\tname_fr VARCHAR(30), \n",
      "\teffect VARCHAR(1000), \n",
      "\teffect_fr VARCHAR(1000), \n",
      "\tgeneration INTEGER, \n",
      "\tPRIMARY KEY (id), \n",
      "\tUNIQUE (name), \n",
      "\tUNIQUE (name_fr)\n",
      ")\n",
      "\n",
      "\n"
     ]
    },
    {
     "name": "stderr",
     "output_type": "stream",
     "text": [
      "\n",
      "CREATE TABLE abilities (\n",
      "\tid INTEGER NOT NULL, \n",
      "\tname VARCHAR(30) NOT NULL, \n",
      "\tname_fr VARCHAR(30), \n",
      "\teffect VARCHAR(1000), \n",
      "\teffect_fr VARCHAR(1000), \n",
      "\tgeneration INTEGER, \n",
      "\tPRIMARY KEY (id), \n",
      "\tUNIQUE (name), \n",
      "\tUNIQUE (name_fr)\n",
      ")\n",
      "\n",
      "\n"
     ]
    },
    {
     "name": "stdout",
     "output_type": "stream",
     "text": [
      "2025-05-11 17:27:57,397 INFO sqlalchemy.engine.Engine [no key 0.00454s] ()\n"
     ]
    },
    {
     "name": "stderr",
     "output_type": "stream",
     "text": [
      "[no key 0.00454s] ()\n"
     ]
    },
    {
     "name": "stdout",
     "output_type": "stream",
     "text": [
      "2025-05-11 17:27:57,411 INFO sqlalchemy.engine.Engine \n",
      "CREATE TABLE games (\n",
      "\tid INTEGER NOT NULL, \n",
      "\tname VARCHAR(50) NOT NULL, \n",
      "\tgeneration_number INTEGER NOT NULL, \n",
      "\tgeneration_name VARCHAR(50) NOT NULL, \n",
      "\tversion_group VARCHAR(50) NOT NULL, \n",
      "\tregion_name VARCHAR(50) NOT NULL, \n",
      "\tPRIMARY KEY (id), \n",
      "\tUNIQUE (version_group)\n",
      ")\n",
      "\n",
      "\n"
     ]
    },
    {
     "name": "stderr",
     "output_type": "stream",
     "text": [
      "\n",
      "CREATE TABLE games (\n",
      "\tid INTEGER NOT NULL, \n",
      "\tname VARCHAR(50) NOT NULL, \n",
      "\tgeneration_number INTEGER NOT NULL, \n",
      "\tgeneration_name VARCHAR(50) NOT NULL, \n",
      "\tversion_group VARCHAR(50) NOT NULL, \n",
      "\tregion_name VARCHAR(50) NOT NULL, \n",
      "\tPRIMARY KEY (id), \n",
      "\tUNIQUE (version_group)\n",
      ")\n",
      "\n",
      "\n"
     ]
    },
    {
     "name": "stdout",
     "output_type": "stream",
     "text": [
      "2025-05-11 17:27:57,417 INFO sqlalchemy.engine.Engine [no key 0.00556s] ()\n"
     ]
    },
    {
     "name": "stderr",
     "output_type": "stream",
     "text": [
      "[no key 0.00556s] ()\n"
     ]
    },
    {
     "name": "stdout",
     "output_type": "stream",
     "text": [
      "2025-05-11 17:27:57,439 INFO sqlalchemy.engine.Engine \n",
      "CREATE TABLE moves (\n",
      "\tid INTEGER NOT NULL, \n",
      "\tname VARCHAR(100) NOT NULL, \n",
      "\tname_fr VARCHAR(100), \n",
      "\tdamage INTEGER, \n",
      "\tprecision INTEGER, \n",
      "\teffect VARCHAR(1000), \n",
      "\teffect_fr VARCHAR(1000), \n",
      "\tgeneration INTEGER, \n",
      "\tPRIMARY KEY (id), \n",
      "\tUNIQUE (name), \n",
      "\tUNIQUE (name_fr)\n",
      ")\n",
      "\n",
      "\n"
     ]
    },
    {
     "name": "stderr",
     "output_type": "stream",
     "text": [
      "\n",
      "CREATE TABLE moves (\n",
      "\tid INTEGER NOT NULL, \n",
      "\tname VARCHAR(100) NOT NULL, \n",
      "\tname_fr VARCHAR(100), \n",
      "\tdamage INTEGER, \n",
      "\tprecision INTEGER, \n",
      "\teffect VARCHAR(1000), \n",
      "\teffect_fr VARCHAR(1000), \n",
      "\tgeneration INTEGER, \n",
      "\tPRIMARY KEY (id), \n",
      "\tUNIQUE (name), \n",
      "\tUNIQUE (name_fr)\n",
      ")\n",
      "\n",
      "\n"
     ]
    },
    {
     "name": "stdout",
     "output_type": "stream",
     "text": [
      "2025-05-11 17:27:57,446 INFO sqlalchemy.engine.Engine [no key 0.00682s] ()\n"
     ]
    },
    {
     "name": "stderr",
     "output_type": "stream",
     "text": [
      "[no key 0.00682s] ()\n"
     ]
    },
    {
     "name": "stdout",
     "output_type": "stream",
     "text": [
      "2025-05-11 17:27:57,459 INFO sqlalchemy.engine.Engine \n",
      "CREATE TABLE types (\n",
      "\tid INTEGER NOT NULL, \n",
      "\tname VARCHAR(20) NOT NULL, \n",
      "\tname_fr VARCHAR(20), \n",
      "\tgeneration INTEGER, \n",
      "\tPRIMARY KEY (id), \n",
      "\tUNIQUE (name), \n",
      "\tUNIQUE (name_fr)\n",
      ")\n",
      "\n",
      "\n"
     ]
    },
    {
     "name": "stderr",
     "output_type": "stream",
     "text": [
      "\n",
      "CREATE TABLE types (\n",
      "\tid INTEGER NOT NULL, \n",
      "\tname VARCHAR(20) NOT NULL, \n",
      "\tname_fr VARCHAR(20), \n",
      "\tgeneration INTEGER, \n",
      "\tPRIMARY KEY (id), \n",
      "\tUNIQUE (name), \n",
      "\tUNIQUE (name_fr)\n",
      ")\n",
      "\n",
      "\n"
     ]
    },
    {
     "name": "stdout",
     "output_type": "stream",
     "text": [
      "2025-05-11 17:27:57,465 INFO sqlalchemy.engine.Engine [no key 0.00680s] ()\n"
     ]
    },
    {
     "name": "stderr",
     "output_type": "stream",
     "text": [
      "[no key 0.00680s] ()\n"
     ]
    },
    {
     "name": "stdout",
     "output_type": "stream",
     "text": [
      "2025-05-11 17:27:57,478 INFO sqlalchemy.engine.Engine \n",
      "CREATE TABLE machines (\n",
      "\tid INTEGER NOT NULL, \n",
      "\tmachine_number VARCHAR(10) NOT NULL, \n",
      "\tmove_id INTEGER NOT NULL, \n",
      "\tmove_name VARCHAR(100), \n",
      "\tversion_group VARCHAR(50) NOT NULL, \n",
      "\tPRIMARY KEY (id), \n",
      "\tFOREIGN KEY(move_id) REFERENCES moves (id), \n",
      "\tFOREIGN KEY(version_group) REFERENCES games (version_group)\n",
      ")\n",
      "\n",
      "\n"
     ]
    },
    {
     "name": "stderr",
     "output_type": "stream",
     "text": [
      "\n",
      "CREATE TABLE machines (\n",
      "\tid INTEGER NOT NULL, \n",
      "\tmachine_number VARCHAR(10) NOT NULL, \n",
      "\tmove_id INTEGER NOT NULL, \n",
      "\tmove_name VARCHAR(100), \n",
      "\tversion_group VARCHAR(50) NOT NULL, \n",
      "\tPRIMARY KEY (id), \n",
      "\tFOREIGN KEY(move_id) REFERENCES moves (id), \n",
      "\tFOREIGN KEY(version_group) REFERENCES games (version_group)\n",
      ")\n",
      "\n",
      "\n"
     ]
    },
    {
     "name": "stdout",
     "output_type": "stream",
     "text": [
      "2025-05-11 17:27:57,492 INFO sqlalchemy.engine.Engine [no key 0.01516s] ()\n"
     ]
    },
    {
     "name": "stderr",
     "output_type": "stream",
     "text": [
      "[no key 0.01516s] ()\n"
     ]
    },
    {
     "name": "stdout",
     "output_type": "stream",
     "text": [
      "2025-05-11 17:27:57,505 INFO sqlalchemy.engine.Engine CREATE INDEX ix_machines_version_group ON machines (version_group)\n"
     ]
    },
    {
     "name": "stderr",
     "output_type": "stream",
     "text": [
      "CREATE INDEX ix_machines_version_group ON machines (version_group)\n"
     ]
    },
    {
     "name": "stdout",
     "output_type": "stream",
     "text": [
      "2025-05-11 17:27:57,511 INFO sqlalchemy.engine.Engine [no key 0.00558s] ()\n"
     ]
    },
    {
     "name": "stderr",
     "output_type": "stream",
     "text": [
      "[no key 0.00558s] ()\n"
     ]
    },
    {
     "name": "stdout",
     "output_type": "stream",
     "text": [
      "2025-05-11 17:27:57,519 INFO sqlalchemy.engine.Engine \n",
      "CREATE TABLE pokemons (\n",
      "\tid INTEGER NOT NULL, \n",
      "\tnational_pokedex_number INTEGER NOT NULL, \n",
      "\tname_en VARCHAR(100) NOT NULL, \n",
      "\tname_fr VARCHAR(100), \n",
      "\ttype_1_id INTEGER NOT NULL, \n",
      "\ttype_2_id INTEGER, \n",
      "\tsprite_url VARCHAR(255), \n",
      "\tcry_url VARCHAR(255), \n",
      "\tPRIMARY KEY (id), \n",
      "\tUNIQUE (name_en), \n",
      "\tUNIQUE (name_fr), \n",
      "\tFOREIGN KEY(type_1_id) REFERENCES types (id), \n",
      "\tFOREIGN KEY(type_2_id) REFERENCES types (id)\n",
      ")\n",
      "\n",
      "\n"
     ]
    },
    {
     "name": "stderr",
     "output_type": "stream",
     "text": [
      "\n",
      "CREATE TABLE pokemons (\n",
      "\tid INTEGER NOT NULL, \n",
      "\tnational_pokedex_number INTEGER NOT NULL, \n",
      "\tname_en VARCHAR(100) NOT NULL, \n",
      "\tname_fr VARCHAR(100), \n",
      "\ttype_1_id INTEGER NOT NULL, \n",
      "\ttype_2_id INTEGER, \n",
      "\tsprite_url VARCHAR(255), \n",
      "\tcry_url VARCHAR(255), \n",
      "\tPRIMARY KEY (id), \n",
      "\tUNIQUE (name_en), \n",
      "\tUNIQUE (name_fr), \n",
      "\tFOREIGN KEY(type_1_id) REFERENCES types (id), \n",
      "\tFOREIGN KEY(type_2_id) REFERENCES types (id)\n",
      ")\n",
      "\n",
      "\n"
     ]
    },
    {
     "name": "stdout",
     "output_type": "stream",
     "text": [
      "2025-05-11 17:27:57,527 INFO sqlalchemy.engine.Engine [no key 0.00748s] ()\n"
     ]
    },
    {
     "name": "stderr",
     "output_type": "stream",
     "text": [
      "[no key 0.00748s] ()\n"
     ]
    },
    {
     "name": "stdout",
     "output_type": "stream",
     "text": [
      "2025-05-11 17:27:57,538 INFO sqlalchemy.engine.Engine \n",
      "CREATE TABLE types_effectiveness (\n",
      "\tid INTEGER NOT NULL, \n",
      "\tattacking_type_id INTEGER NOT NULL, \n",
      "\tdefending_type_id INTEGER NOT NULL, \n",
      "\teffectiveness FLOAT NOT NULL, \n",
      "\tPRIMARY KEY (id), \n",
      "\tFOREIGN KEY(attacking_type_id) REFERENCES types (id), \n",
      "\tFOREIGN KEY(defending_type_id) REFERENCES types (id)\n",
      ")\n",
      "\n",
      "\n"
     ]
    },
    {
     "name": "stderr",
     "output_type": "stream",
     "text": [
      "\n",
      "CREATE TABLE types_effectiveness (\n",
      "\tid INTEGER NOT NULL, \n",
      "\tattacking_type_id INTEGER NOT NULL, \n",
      "\tdefending_type_id INTEGER NOT NULL, \n",
      "\teffectiveness FLOAT NOT NULL, \n",
      "\tPRIMARY KEY (id), \n",
      "\tFOREIGN KEY(attacking_type_id) REFERENCES types (id), \n",
      "\tFOREIGN KEY(defending_type_id) REFERENCES types (id)\n",
      ")\n",
      "\n",
      "\n"
     ]
    },
    {
     "name": "stdout",
     "output_type": "stream",
     "text": [
      "2025-05-11 17:27:57,546 INFO sqlalchemy.engine.Engine [no key 0.00771s] ()\n"
     ]
    },
    {
     "name": "stderr",
     "output_type": "stream",
     "text": [
      "[no key 0.00771s] ()\n"
     ]
    },
    {
     "name": "stdout",
     "output_type": "stream",
     "text": [
      "2025-05-11 17:27:57,556 INFO sqlalchemy.engine.Engine \n",
      "CREATE TABLE evolutions (\n",
      "\tid INTEGER NOT NULL, \n",
      "\tevolution_chain_id INTEGER NOT NULL, \n",
      "\tpokemon_from_id INTEGER NOT NULL, \n",
      "\tpokemon_to_id INTEGER NOT NULL, \n",
      "\t\"trigger\" VARCHAR(50), \n",
      "\tPRIMARY KEY (id), \n",
      "\tFOREIGN KEY(pokemon_from_id) REFERENCES pokemons (id), \n",
      "\tFOREIGN KEY(pokemon_to_id) REFERENCES pokemons (id)\n",
      ")\n",
      "\n",
      "\n"
     ]
    },
    {
     "name": "stderr",
     "output_type": "stream",
     "text": [
      "\n",
      "CREATE TABLE evolutions (\n",
      "\tid INTEGER NOT NULL, \n",
      "\tevolution_chain_id INTEGER NOT NULL, \n",
      "\tpokemon_from_id INTEGER NOT NULL, \n",
      "\tpokemon_to_id INTEGER NOT NULL, \n",
      "\t\"trigger\" VARCHAR(50), \n",
      "\tPRIMARY KEY (id), \n",
      "\tFOREIGN KEY(pokemon_from_id) REFERENCES pokemons (id), \n",
      "\tFOREIGN KEY(pokemon_to_id) REFERENCES pokemons (id)\n",
      ")\n",
      "\n",
      "\n"
     ]
    },
    {
     "name": "stdout",
     "output_type": "stream",
     "text": [
      "2025-05-11 17:27:57,562 INFO sqlalchemy.engine.Engine [no key 0.00544s] ()\n"
     ]
    },
    {
     "name": "stderr",
     "output_type": "stream",
     "text": [
      "[no key 0.00544s] ()\n"
     ]
    },
    {
     "name": "stdout",
     "output_type": "stream",
     "text": [
      "2025-05-11 17:27:57,572 INFO sqlalchemy.engine.Engine \n",
      "CREATE TABLE pokedex_numbers (\n",
      "\tpokemon_id INTEGER NOT NULL, \n",
      "\tnational INTEGER, \n",
      "\tkanto INTEGER, \n",
      "\toriginal_johto INTEGER, \n",
      "\tupdated_johto INTEGER, \n",
      "\thoenn INTEGER, \n",
      "\toriginal_sinnoh INTEGER, \n",
      "\textended_sinnoh INTEGER, \n",
      "\tunova_bw INTEGER, \n",
      "\tunova_b2w2 INTEGER, \n",
      "\tkalos_central INTEGER, \n",
      "\tkalos_coastal INTEGER, \n",
      "\tkalos_mountain INTEGER, \n",
      "\talola INTEGER, \n",
      "\tmelemele INTEGER, \n",
      "\takala INTEGER, \n",
      "\tulaula INTEGER, \n",
      "\tponi INTEGER, \n",
      "\tgalar INTEGER, \n",
      "\tisle_of_armor INTEGER, \n",
      "\tcrown_tundra INTEGER, \n",
      "\thisui INTEGER, \n",
      "\tpaldea INTEGER, \n",
      "\tPRIMARY KEY (pokemon_id), \n",
      "\tFOREIGN KEY(pokemon_id) REFERENCES pokemons (id)\n",
      ")\n",
      "\n",
      "\n"
     ]
    },
    {
     "name": "stderr",
     "output_type": "stream",
     "text": [
      "\n",
      "CREATE TABLE pokedex_numbers (\n",
      "\tpokemon_id INTEGER NOT NULL, \n",
      "\tnational INTEGER, \n",
      "\tkanto INTEGER, \n",
      "\toriginal_johto INTEGER, \n",
      "\tupdated_johto INTEGER, \n",
      "\thoenn INTEGER, \n",
      "\toriginal_sinnoh INTEGER, \n",
      "\textended_sinnoh INTEGER, \n",
      "\tunova_bw INTEGER, \n",
      "\tunova_b2w2 INTEGER, \n",
      "\tkalos_central INTEGER, \n",
      "\tkalos_coastal INTEGER, \n",
      "\tkalos_mountain INTEGER, \n",
      "\talola INTEGER, \n",
      "\tmelemele INTEGER, \n",
      "\takala INTEGER, \n",
      "\tulaula INTEGER, \n",
      "\tponi INTEGER, \n",
      "\tgalar INTEGER, \n",
      "\tisle_of_armor INTEGER, \n",
      "\tcrown_tundra INTEGER, \n",
      "\thisui INTEGER, \n",
      "\tpaldea INTEGER, \n",
      "\tPRIMARY KEY (pokemon_id), \n",
      "\tFOREIGN KEY(pokemon_id) REFERENCES pokemons (id)\n",
      ")\n",
      "\n",
      "\n"
     ]
    },
    {
     "name": "stdout",
     "output_type": "stream",
     "text": [
      "2025-05-11 17:27:57,579 INFO sqlalchemy.engine.Engine [no key 0.00743s] ()\n"
     ]
    },
    {
     "name": "stderr",
     "output_type": "stream",
     "text": [
      "[no key 0.00743s] ()\n"
     ]
    },
    {
     "name": "stdout",
     "output_type": "stream",
     "text": [
      "2025-05-11 17:27:57,591 INFO sqlalchemy.engine.Engine \n",
      "CREATE TABLE pokemons_abilities (\n",
      "\tpokemon_id INTEGER NOT NULL, \n",
      "\tability_id INTEGER NOT NULL, \n",
      "\tability_name VARCHAR(30) NOT NULL, \n",
      "\tis_hidden BOOLEAN NOT NULL, \n",
      "\tslot INTEGER NOT NULL, \n",
      "\tPRIMARY KEY (pokemon_id, slot), \n",
      "\tFOREIGN KEY(pokemon_id) REFERENCES pokemons (id), \n",
      "\tFOREIGN KEY(ability_id) REFERENCES abilities (id), \n",
      "\tFOREIGN KEY(ability_name) REFERENCES abilities (name)\n",
      ")\n",
      "\n",
      "\n"
     ]
    },
    {
     "name": "stderr",
     "output_type": "stream",
     "text": [
      "\n",
      "CREATE TABLE pokemons_abilities (\n",
      "\tpokemon_id INTEGER NOT NULL, \n",
      "\tability_id INTEGER NOT NULL, \n",
      "\tability_name VARCHAR(30) NOT NULL, \n",
      "\tis_hidden BOOLEAN NOT NULL, \n",
      "\tslot INTEGER NOT NULL, \n",
      "\tPRIMARY KEY (pokemon_id, slot), \n",
      "\tFOREIGN KEY(pokemon_id) REFERENCES pokemons (id), \n",
      "\tFOREIGN KEY(ability_id) REFERENCES abilities (id), \n",
      "\tFOREIGN KEY(ability_name) REFERENCES abilities (name)\n",
      ")\n",
      "\n",
      "\n"
     ]
    },
    {
     "name": "stdout",
     "output_type": "stream",
     "text": [
      "2025-05-11 17:27:57,596 INFO sqlalchemy.engine.Engine [no key 0.00537s] ()\n"
     ]
    },
    {
     "name": "stderr",
     "output_type": "stream",
     "text": [
      "[no key 0.00537s] ()\n"
     ]
    },
    {
     "name": "stdout",
     "output_type": "stream",
     "text": [
      "2025-05-11 17:27:57,604 INFO sqlalchemy.engine.Engine \n",
      "CREATE TABLE pokemon_details (\n",
      "\tpokemon_id INTEGER NOT NULL, \n",
      "\tspecies_id INTEGER NOT NULL, \n",
      "\theight_m INTEGER NOT NULL, \n",
      "\tweight_kg INTEGER NOT NULL, \n",
      "\tbase_experience INTEGER, \n",
      "\t\"order\" INTEGER, \n",
      "\tis_default BOOLEAN NOT NULL, \n",
      "\tis_legendary BOOLEAN NOT NULL, \n",
      "\tis_mythical BOOLEAN NOT NULL, \n",
      "\tis_baby BOOLEAN NOT NULL, \n",
      "\tgender_rate INTEGER, \n",
      "\tcapture_rate INTEGER, \n",
      "\tbase_happiness INTEGER, \n",
      "\thatch_counter INTEGER, \n",
      "\thas_gender_differences BOOLEAN, \n",
      "\tforms_switchable BOOLEAN, \n",
      "\tegg_group_1 VARCHAR(20), \n",
      "\tegg_group_2 VARCHAR(20), \n",
      "\tcolor VARCHAR(20), \n",
      "\tshape VARCHAR(20), \n",
      "\tevolves_from_species_id INTEGER, \n",
      "\tevolution_chain_id INTEGER, \n",
      "\thabitat VARCHAR(20), \n",
      "\tgeneration VARCHAR(20), \n",
      "\tgrowth_rate VARCHAR(20), \n",
      "\tPRIMARY KEY (pokemon_id), \n",
      "\tFOREIGN KEY(pokemon_id) REFERENCES pokemons (id)\n",
      ")\n",
      "\n",
      "\n"
     ]
    },
    {
     "name": "stderr",
     "output_type": "stream",
     "text": [
      "\n",
      "CREATE TABLE pokemon_details (\n",
      "\tpokemon_id INTEGER NOT NULL, \n",
      "\tspecies_id INTEGER NOT NULL, \n",
      "\theight_m INTEGER NOT NULL, \n",
      "\tweight_kg INTEGER NOT NULL, \n",
      "\tbase_experience INTEGER, \n",
      "\t\"order\" INTEGER, \n",
      "\tis_default BOOLEAN NOT NULL, \n",
      "\tis_legendary BOOLEAN NOT NULL, \n",
      "\tis_mythical BOOLEAN NOT NULL, \n",
      "\tis_baby BOOLEAN NOT NULL, \n",
      "\tgender_rate INTEGER, \n",
      "\tcapture_rate INTEGER, \n",
      "\tbase_happiness INTEGER, \n",
      "\thatch_counter INTEGER, \n",
      "\thas_gender_differences BOOLEAN, \n",
      "\tforms_switchable BOOLEAN, \n",
      "\tegg_group_1 VARCHAR(20), \n",
      "\tegg_group_2 VARCHAR(20), \n",
      "\tcolor VARCHAR(20), \n",
      "\tshape VARCHAR(20), \n",
      "\tevolves_from_species_id INTEGER, \n",
      "\tevolution_chain_id INTEGER, \n",
      "\thabitat VARCHAR(20), \n",
      "\tgeneration VARCHAR(20), \n",
      "\tgrowth_rate VARCHAR(20), \n",
      "\tPRIMARY KEY (pokemon_id), \n",
      "\tFOREIGN KEY(pokemon_id) REFERENCES pokemons (id)\n",
      ")\n",
      "\n",
      "\n"
     ]
    },
    {
     "name": "stdout",
     "output_type": "stream",
     "text": [
      "2025-05-11 17:27:57,634 INFO sqlalchemy.engine.Engine [no key 0.02949s] ()\n"
     ]
    },
    {
     "name": "stderr",
     "output_type": "stream",
     "text": [
      "[no key 0.02949s] ()\n"
     ]
    },
    {
     "name": "stdout",
     "output_type": "stream",
     "text": [
      "2025-05-11 17:27:57,658 INFO sqlalchemy.engine.Engine \n",
      "CREATE TABLE pokemons_learnsets (\n",
      "\tid INTEGER NOT NULL, \n",
      "\tpokemon_id INTEGER NOT NULL, \n",
      "\tmove_id INTEGER NOT NULL, \n",
      "\tmove_name VARCHAR(100) NOT NULL, \n",
      "\tmethod VARCHAR(100) NOT NULL, \n",
      "\tlevel INTEGER, \n",
      "\tversion_group VARCHAR(100) NOT NULL, \n",
      "\tPRIMARY KEY (id), \n",
      "\tFOREIGN KEY(pokemon_id) REFERENCES pokemons (id), \n",
      "\tFOREIGN KEY(move_id) REFERENCES moves (id), \n",
      "\tFOREIGN KEY(version_group) REFERENCES games (version_group)\n",
      ")\n",
      "\n",
      "\n"
     ]
    },
    {
     "name": "stderr",
     "output_type": "stream",
     "text": [
      "\n",
      "CREATE TABLE pokemons_learnsets (\n",
      "\tid INTEGER NOT NULL, \n",
      "\tpokemon_id INTEGER NOT NULL, \n",
      "\tmove_id INTEGER NOT NULL, \n",
      "\tmove_name VARCHAR(100) NOT NULL, \n",
      "\tmethod VARCHAR(100) NOT NULL, \n",
      "\tlevel INTEGER, \n",
      "\tversion_group VARCHAR(100) NOT NULL, \n",
      "\tPRIMARY KEY (id), \n",
      "\tFOREIGN KEY(pokemon_id) REFERENCES pokemons (id), \n",
      "\tFOREIGN KEY(move_id) REFERENCES moves (id), \n",
      "\tFOREIGN KEY(version_group) REFERENCES games (version_group)\n",
      ")\n",
      "\n",
      "\n"
     ]
    },
    {
     "name": "stdout",
     "output_type": "stream",
     "text": [
      "2025-05-11 17:27:57,665 INFO sqlalchemy.engine.Engine [no key 0.00723s] ()\n"
     ]
    },
    {
     "name": "stderr",
     "output_type": "stream",
     "text": [
      "[no key 0.00723s] ()\n"
     ]
    },
    {
     "name": "stdout",
     "output_type": "stream",
     "text": [
      "2025-05-11 17:27:57,672 INFO sqlalchemy.engine.Engine CREATE INDEX ix_pokemons_learnsets_version_group ON pokemons_learnsets (version_group)\n"
     ]
    },
    {
     "name": "stderr",
     "output_type": "stream",
     "text": [
      "CREATE INDEX ix_pokemons_learnsets_version_group ON pokemons_learnsets (version_group)\n"
     ]
    },
    {
     "name": "stdout",
     "output_type": "stream",
     "text": [
      "2025-05-11 17:27:57,674 INFO sqlalchemy.engine.Engine [no key 0.00176s] ()\n"
     ]
    },
    {
     "name": "stderr",
     "output_type": "stream",
     "text": [
      "[no key 0.00176s] ()\n"
     ]
    },
    {
     "name": "stdout",
     "output_type": "stream",
     "text": [
      "2025-05-11 17:27:57,684 INFO sqlalchemy.engine.Engine CREATE INDEX ix_pokemons_learnsets_pokemon_id ON pokemons_learnsets (pokemon_id)\n"
     ]
    },
    {
     "name": "stderr",
     "output_type": "stream",
     "text": [
      "CREATE INDEX ix_pokemons_learnsets_pokemon_id ON pokemons_learnsets (pokemon_id)\n"
     ]
    },
    {
     "name": "stdout",
     "output_type": "stream",
     "text": [
      "2025-05-11 17:27:57,690 INFO sqlalchemy.engine.Engine [no key 0.00518s] ()\n"
     ]
    },
    {
     "name": "stderr",
     "output_type": "stream",
     "text": [
      "[no key 0.00518s] ()\n"
     ]
    },
    {
     "name": "stdout",
     "output_type": "stream",
     "text": [
      "2025-05-11 17:27:57,698 INFO sqlalchemy.engine.Engine \n",
      "CREATE TABLE pokemon_sprites (\n",
      "\tpokemon_id INTEGER NOT NULL, \n",
      "\tfront_default VARCHAR, \n",
      "\tback_default VARCHAR, \n",
      "\tfront_shiny VARCHAR, \n",
      "\tback_shiny VARCHAR, \n",
      "\tofficial_artwork VARCHAR, \n",
      "\tofficial_artwork_shiny VARCHAR, \n",
      "\tdream_world VARCHAR, \n",
      "\thome_default VARCHAR, \n",
      "\thome_shiny VARCHAR, \n",
      "\tpokemon_go VARCHAR, \n",
      "\tpokemon_go_shiny VARCHAR, \n",
      "\tPRIMARY KEY (pokemon_id), \n",
      "\tFOREIGN KEY(pokemon_id) REFERENCES pokemons (id)\n",
      ")\n",
      "\n",
      "\n"
     ]
    },
    {
     "name": "stderr",
     "output_type": "stream",
     "text": [
      "\n",
      "CREATE TABLE pokemon_sprites (\n",
      "\tpokemon_id INTEGER NOT NULL, \n",
      "\tfront_default VARCHAR, \n",
      "\tback_default VARCHAR, \n",
      "\tfront_shiny VARCHAR, \n",
      "\tback_shiny VARCHAR, \n",
      "\tofficial_artwork VARCHAR, \n",
      "\tofficial_artwork_shiny VARCHAR, \n",
      "\tdream_world VARCHAR, \n",
      "\thome_default VARCHAR, \n",
      "\thome_shiny VARCHAR, \n",
      "\tpokemon_go VARCHAR, \n",
      "\tpokemon_go_shiny VARCHAR, \n",
      "\tPRIMARY KEY (pokemon_id), \n",
      "\tFOREIGN KEY(pokemon_id) REFERENCES pokemons (id)\n",
      ")\n",
      "\n",
      "\n"
     ]
    },
    {
     "name": "stdout",
     "output_type": "stream",
     "text": [
      "2025-05-11 17:27:57,701 INFO sqlalchemy.engine.Engine [no key 0.00339s] ()\n"
     ]
    },
    {
     "name": "stderr",
     "output_type": "stream",
     "text": [
      "[no key 0.00339s] ()\n"
     ]
    },
    {
     "name": "stdout",
     "output_type": "stream",
     "text": [
      "2025-05-11 17:27:57,711 INFO sqlalchemy.engine.Engine \n",
      "CREATE TABLE pokemon_stats (\n",
      "\tpokemon_id INTEGER NOT NULL, \n",
      "\thp INTEGER NOT NULL, \n",
      "\tattack INTEGER NOT NULL, \n",
      "\tdefense INTEGER NOT NULL, \n",
      "\tspecial_attack INTEGER NOT NULL, \n",
      "\tspecial_defense INTEGER NOT NULL, \n",
      "\tspeed INTEGER NOT NULL, \n",
      "\tPRIMARY KEY (pokemon_id), \n",
      "\tFOREIGN KEY(pokemon_id) REFERENCES pokemons (id)\n",
      ")\n",
      "\n",
      "\n"
     ]
    },
    {
     "name": "stderr",
     "output_type": "stream",
     "text": [
      "\n",
      "CREATE TABLE pokemon_stats (\n",
      "\tpokemon_id INTEGER NOT NULL, \n",
      "\thp INTEGER NOT NULL, \n",
      "\tattack INTEGER NOT NULL, \n",
      "\tdefense INTEGER NOT NULL, \n",
      "\tspecial_attack INTEGER NOT NULL, \n",
      "\tspecial_defense INTEGER NOT NULL, \n",
      "\tspeed INTEGER NOT NULL, \n",
      "\tPRIMARY KEY (pokemon_id), \n",
      "\tFOREIGN KEY(pokemon_id) REFERENCES pokemons (id)\n",
      ")\n",
      "\n",
      "\n"
     ]
    },
    {
     "name": "stdout",
     "output_type": "stream",
     "text": [
      "2025-05-11 17:27:57,716 INFO sqlalchemy.engine.Engine [no key 0.00500s] ()\n"
     ]
    },
    {
     "name": "stderr",
     "output_type": "stream",
     "text": [
      "[no key 0.00500s] ()\n"
     ]
    },
    {
     "name": "stdout",
     "output_type": "stream",
     "text": [
      "2025-05-11 17:27:57,722 INFO sqlalchemy.engine.Engine COMMIT\n"
     ]
    },
    {
     "name": "stderr",
     "output_type": "stream",
     "text": [
      "COMMIT\n"
     ]
    }
   ],
   "source": [
    "from app.db.local_build import LocalDatabase\n",
    "from pathlib import Path\n",
    "import logging\n",
    "logging.basicConfig(level=logging.CRITICAL)\n",
    "logging.getLogger().setLevel(logging.CRITICAL)\n",
    "logging.getLogger('sqlalchemy').setLevel(logging.CRITICAL)\n",
    "TEST_DB_PATH = Path('test.db')\n",
    "LocalDatabase().build(TEST_DB_PATH)"
   ]
  },
  {
   "cell_type": "code",
   "execution_count": 2,
   "metadata": {},
   "outputs": [],
   "source": [
    "import requests\n",
    "import json\n",
    "\n",
    "# URL de l'API pour récupérer le premier type (Fire)\n",
    "url = \"https://pokeapi.co/api/v2/type/1\"\n",
    "\n",
    "# Faire la requête HTTP\n",
    "response = requests.get(url)\n",
    "\n",
    "# Vérifier que la requête a réussi\n",
    "if response.status_code == 200:\n",
    "    # Récupérer les données au format JSON\n",
    "    type_data = response.json()\n",
    "    "
   ]
  },
  {
   "cell_type": "code",
   "execution_count": 7,
   "metadata": {},
   "outputs": [],
   "source": [
    "from sqlmodel import Session, create_engine\n",
    "from pathlib import Path\n",
    "from app.models.tables.type import Type\n",
    "\n",
    "TEST_DB_PATH = Path('app/db/test.db')\n",
    "\n",
    "# Créer le moteur SQLAlchemy\n",
    "engine = create_engine(f\"sqlite:///{TEST_DB_PATH}\")\n",
    "\n",
    "# Créer et utiliser une session avec un context manager\n",
    "with Session(engine) as session:\n",
    "    normal_type = Type(\n",
    "        id=type_data['id'],\n",
    "        name=type_data['name'],\n",
    "        name_fr='Normal',\n",
    "        generation=1\n",
    "    )\n",
    "    \n",
    "    session.add(normal_type)\n",
    "    \n",
    "    \n",
    "    # Confirmer les changements dans la base de données\n",
    "    session.commit()"
   ]
  },
  {
   "cell_type": "code",
   "execution_count": null,
   "metadata": {},
   "outputs": [],
   "source": [
    "from app.models.tables.type import Type\n",
    "\n",
    "normal_type = Type(\n",
    "    id=type_data['id'],\n",
    "    name=type_data['name'],\n",
    "    name_fr=type_data['names']['language']['fr'],\n",
    "    generation=1\n",
    ")"
   ]
  },
  {
   "cell_type": "code",
   "execution_count": null,
   "metadata": {},
   "outputs": [],
   "source": [
    "from app.models.tables.type import Type\n",
    "\n",
    "normal_type = Type(\n",
    "    id=type_data['id'],\n",
    "    name=type_data['name'],\n",
    "    name_fr=type_data['names']['language']['fr'],\n",
    "    generation=1\n",
    ")"
   ]
  },
  {
   "cell_type": "code",
   "execution_count": 2,
   "metadata": {},
   "outputs": [
    {
     "data": {
      "text/plain": [
       "[{'name': 'water', 'url': 'https://pokeapi.co/api/v2/type/11/'},\n",
       " {'name': 'grass', 'url': 'https://pokeapi.co/api/v2/type/12/'},\n",
       " {'name': 'electric', 'url': 'https://pokeapi.co/api/v2/type/13/'},\n",
       " {'name': 'psychic', 'url': 'https://pokeapi.co/api/v2/type/14/'},\n",
       " {'name': 'ice', 'url': 'https://pokeapi.co/api/v2/type/15/'},\n",
       " {'name': 'dragon', 'url': 'https://pokeapi.co/api/v2/type/16/'},\n",
       " {'name': 'dark', 'url': 'https://pokeapi.co/api/v2/type/17/'},\n",
       " {'name': 'fairy', 'url': 'https://pokeapi.co/api/v2/type/18/'},\n",
       " {'name': 'stellar', 'url': 'https://pokeapi.co/api/v2/type/19/'},\n",
       " {'name': 'unknown', 'url': 'https://pokeapi.co/api/v2/type/10001/'}]"
      ]
     },
     "execution_count": 2,
     "metadata": {},
     "output_type": "execute_result"
    }
   ],
   "source": [
    "from app.api.ingestion.client import PokeApiClient\n",
    "from app.models.enums.pokeapi import EndPoint\n",
    "api = PokeApiClient()\n",
    "\n",
    "api.call_batch(EndPoint.TYPE, offset=10, limit=10)"
   ]
  },
  {
   "cell_type": "code",
   "execution_count": null,
   "metadata": {},
   "outputs": [
    {
     "data": {
      "text/plain": [
       "21"
      ]
     },
     "execution_count": 1,
     "metadata": {},
     "output_type": "execute_result"
    }
   ],
   "source": [
    "from app.api.ingestion.client import PokeApiClient\n",
    "from app.models.enums.pokeapi import EndPoint\n",
    "api = PokeApiClient()\n",
    "type_count = api.get_endpoint_count(EndPoint.TYPE)\n",
    "\n",
    "processed = 0\n",
    "batch_size = 10\n",
    "while processed <= type_count:\n",
    "    PokeApiClient()."
   ]
  },
  {
   "cell_type": "code",
   "execution_count": null,
   "metadata": {},
   "outputs": [],
   "source": [
    "from app.models.tables.type import Type\n",
    "\n",
    "normal_type = Type(\n",
    "    id=type_data['id'],\n",
    "    name=type_data['name'],\n",
    "    name_fr=type_data['names']['language']['fr'],\n",
    "    generation=1\n",
    ")"
   ]
  },
  {
   "cell_type": "code",
   "execution_count": null,
   "metadata": {},
   "outputs": [],
   "source": []
  },
  {
   "cell_type": "markdown",
   "metadata": {},
   "source": [
    "<span style=\"color: red\">⚠️ Danger zone ⚠️</span>"
   ]
  },
  {
   "cell_type": "markdown",
   "metadata": {},
   "source": [
    "`DROP TABLES`"
   ]
  },
  {
   "cell_type": "code",
   "execution_count": 5,
   "metadata": {},
   "outputs": [],
   "source": [
    "from sqlalchemy import create_engine, text\n",
    "from pathlib import Path\n",
    "\n",
    "DB_PATH = Path(\"app/db/test.db\")\n",
    "if DB_PATH.exists():\n",
    "    engine = create_engine(f\"sqlite:///{DB_PATH}\", connect_args={\"check_same_thread\": False})\n",
    "\n",
    "    with engine.connect() as conn:\n",
    "        conn.execute(text(\"PRAGMA foreign_keys=OFF;\"))\n",
    "        conn.commit()\n",
    "\n",
    "        # Récupère toutes les tables\n",
    "        result = conn.execute(text(\n",
    "            \"SELECT name FROM sqlite_master WHERE type='table' AND name NOT LIKE 'sqlite_%';\"\n",
    "        ))\n",
    "        tables = [row[0] for row in result]\n",
    "\n",
    "        # Vide chaque table\n",
    "        for table in tables:\n",
    "            conn.execute(text(f\"DELETE FROM {table};\"))\n",
    "        conn.commit()\n",
    "\n",
    "    engine.dispose()\n"
   ]
  },
  {
   "cell_type": "markdown",
   "metadata": {},
   "source": [
    "`DELETE DATABASE`"
   ]
  },
  {
   "cell_type": "code",
   "execution_count": 4,
   "metadata": {},
   "outputs": [],
   "source": [
    "import os\n",
    "from pathlib import Path\n",
    "if Path('app/db/PKMN.db').exists():\n",
    "    os.remove(Path('app/db/test.db'))\n"
   ]
  }
 ],
 "metadata": {
  "kernelspec": {
   "display_name": ".venv",
   "language": "python",
   "name": "python3"
  },
  "language_info": {
   "codemirror_mode": {
    "name": "ipython",
    "version": 3
   },
   "file_extension": ".py",
   "mimetype": "text/x-python",
   "name": "python",
   "nbconvert_exporter": "python",
   "pygments_lexer": "ipython3",
   "version": "3.12.10"
  }
 },
 "nbformat": 4,
 "nbformat_minor": 2
}
