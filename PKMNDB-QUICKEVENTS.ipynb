{
 "cells": [
  {
   "cell_type": "markdown",
   "metadata": {
    "vscode": {
     "languageId": "plaintext"
    }
   },
   "source": [
    "`Build empty database`"
   ]
  },
  {
   "cell_type": "code",
   "execution_count": null,
   "metadata": {},
   "outputs": [],
   "source": [
    "!uv run app/db/local_build.py"
   ]
  },
  {
   "cell_type": "markdown",
   "metadata": {},
   "source": [
    "<span style=\"color: red\">⚠️ Danger zone ⚠️</span>"
   ]
  },
  {
   "cell_type": "markdown",
   "metadata": {},
   "source": [
    "`DROP TABLES`"
   ]
  },
  {
   "cell_type": "code",
   "execution_count": 2,
   "metadata": {},
   "outputs": [],
   "source": [
    "from sqlmodel import SQLModel, create_engine\n",
    "from pathlib import Path\n",
    "\n",
    "DB_PATH = Path('app/db/PKMN.db')\n",
    "if DB_PATH.exists() and input(\"Vider les tables? (y/N): \").lower() == 'y':\n",
    "    engine = create_engine(f\"sqlite:///{DB_PATH}\", connect_args={\"check_same_thread\": False})\n",
    "    SQLModel.metadata.drop_all(engine)\n",
    "    engine.dispose()"
   ]
  },
  {
   "cell_type": "markdown",
   "metadata": {},
   "source": [
    "`DELETE DATABASE`"
   ]
  },
  {
   "cell_type": "code",
   "execution_count": 9,
   "metadata": {},
   "outputs": [],
   "source": [
    "import os\n",
    "from pathlib import Path\n",
    "if Path('app/db/PKMN.db').exists():\n",
    "    confirm = input(f\"⚠️ Êtes-vous sûr de vouloir supprimer la base de données? (y/N): \")\n",
    "    if confirm.lower() == 'y':\n",
    "        os.remove(Path('app/db/PKMN.db'))\n"
   ]
  }
 ],
 "metadata": {
  "kernelspec": {
   "display_name": ".venv",
   "language": "python",
   "name": "python3"
  },
  "language_info": {
   "codemirror_mode": {
    "name": "ipython",
    "version": 3
   },
   "file_extension": ".py",
   "mimetype": "text/x-python",
   "name": "python",
   "nbconvert_exporter": "python",
   "pygments_lexer": "ipython3",
   "version": "3.12.10"
  }
 },
 "nbformat": 4,
 "nbformat_minor": 2
}
