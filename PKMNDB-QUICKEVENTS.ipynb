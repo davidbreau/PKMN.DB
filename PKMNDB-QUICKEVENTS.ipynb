{
 "cells": [
  {
   "cell_type": "markdown",
   "metadata": {
    "vscode": {
     "languageId": "plaintext"
    }
   },
   "source": [
    "`Build empty database`"
   ]
  },
  {
   "cell_type": "code",
   "execution_count": 4,
   "metadata": {},
   "outputs": [
    {
     "name": "stdout",
     "output_type": "stream",
     "text": [
      "Traceback (most recent call last):\n",
      "  File \"/Users/davidjbreau/projects/PKMN.DB/app/db/local_build.py\", line 37, in <module>\n",
      "    db.build() \n",
      "    ^^^^^^^^^^\n",
      "  File \"/Users/davidjbreau/projects/PKMN.DB/app/db/local_build.py\", line 26, in build\n",
      "    from app.models.tables import __all_tables__\n",
      "  File \"/Users/davidjbreau/projects/PKMN.DB/app/models/tables/__init__.py\", line 17, in <module>\n",
      "    from .GO_pokemon import GO_Pokemon\n",
      "ModuleNotFoundError: No module named 'app.models.tables.GO_pokemon'\n"
     ]
    }
   ],
   "source": [
    "!uv run app/db/local_build.py"
   ]
  },
  {
   "cell_type": "markdown",
   "metadata": {},
   "source": [
    "<span style=\"color: red\">⚠️ Danger zone ⚠️</span>"
   ]
  },
  {
   "cell_type": "markdown",
   "metadata": {},
   "source": [
    "`DROP TABLES`"
   ]
  },
  {
   "cell_type": "code",
   "execution_count": null,
   "metadata": {},
   "outputs": [
    {
     "name": "stderr",
     "output_type": "stream",
     "text": [
      "/var/folders/_1/x3m5fj893m70szcpz50r4zh00000gn/T/ipykernel_5927/2865240052.py:11: DeprecationWarning: \n",
      "        🚨 You probably want to use `session.exec()` instead of `session.query()`.\n",
      "\n",
      "        `session.exec()` is SQLModel's own short version with increased type\n",
      "        annotations.\n",
      "\n",
      "        Or otherwise you might want to use `session.execute()` instead of\n",
      "        `session.query()`.\n",
      "        \n",
      "  session.query(GO_PokemonLearnset).delete()\n",
      "/var/folders/_1/x3m5fj893m70szcpz50r4zh00000gn/T/ipykernel_5927/2865240052.py:12: DeprecationWarning: \n",
      "        🚨 You probably want to use `session.exec()` instead of `session.query()`.\n",
      "\n",
      "        `session.exec()` is SQLModel's own short version with increased type\n",
      "        annotations.\n",
      "\n",
      "        Or otherwise you might want to use `session.execute()` instead of\n",
      "        `session.query()`.\n",
      "        \n",
      "  session.query(GO_PokemonStats).delete()\n",
      "/var/folders/_1/x3m5fj893m70szcpz50r4zh00000gn/T/ipykernel_5927/2865240052.py:13: DeprecationWarning: \n",
      "        🚨 You probably want to use `session.exec()` instead of `session.query()`.\n",
      "\n",
      "        `session.exec()` is SQLModel's own short version with increased type\n",
      "        annotations.\n",
      "\n",
      "        Or otherwise you might want to use `session.execute()` instead of\n",
      "        `session.query()`.\n",
      "        \n",
      "  session.query(GO_Pokemon).delete()\n",
      "/var/folders/_1/x3m5fj893m70szcpz50r4zh00000gn/T/ipykernel_5927/2865240052.py:14: DeprecationWarning: \n",
      "        🚨 You probably want to use `session.exec()` instead of `session.query()`.\n",
      "\n",
      "        `session.exec()` is SQLModel's own short version with increased type\n",
      "        annotations.\n",
      "\n",
      "        Or otherwise you might want to use `session.execute()` instead of\n",
      "        `session.query()`.\n",
      "        \n",
      "  session.query(GO_Move).delete()\n",
      "/var/folders/_1/x3m5fj893m70szcpz50r4zh00000gn/T/ipykernel_5927/2865240052.py:15: DeprecationWarning: \n",
      "        🚨 You probably want to use `session.exec()` instead of `session.query()`.\n",
      "\n",
      "        `session.exec()` is SQLModel's own short version with increased type\n",
      "        annotations.\n",
      "\n",
      "        Or otherwise you might want to use `session.execute()` instead of\n",
      "        `session.query()`.\n",
      "        \n",
      "  session.query(GO_TypeEffectiveness).delete()\n",
      "/var/folders/_1/x3m5fj893m70szcpz50r4zh00000gn/T/ipykernel_5927/2865240052.py:16: DeprecationWarning: \n",
      "        🚨 You probably want to use `session.exec()` instead of `session.query()`.\n",
      "\n",
      "        `session.exec()` is SQLModel's own short version with increased type\n",
      "        annotations.\n",
      "\n",
      "        Or otherwise you might want to use `session.execute()` instead of\n",
      "        `session.query()`.\n",
      "        \n",
      "  session.query(GO_Type).delete()\n"
     ]
    }
   ],
   "source": [
    "from sqlmodel import SQLModel, create_engine, Session\n",
    "from pathlib import Path\n",
    "from app.models.GO_tables import *\n",
    "\n",
    "DB_PATH = Path('app/db/PKMNGO.db')\n",
    "if DB_PATH.exists() and input(\"Vider le contenu des tables? (y/N): \").lower() == 'y':\n",
    "    engine = create_engine(f\"sqlite:///{DB_PATH}\", connect_args={\"check_same_thread\": False})\n",
    "    \n",
    "    with Session(engine) as session:\n",
    "        # Truncate all tables in reverse order to handle foreign keys\n",
    "        session.query(GO_PokemonLearnset).delete()\n",
    "        session.query(GO_PokemonStats).delete()\n",
    "        session.query(GO_Pokemon).delete()\n",
    "        session.query(GO_Move).delete()\n",
    "        session.commit()\n",
    "    \n",
    "    engine.dispose()"
   ]
  },
  {
   "cell_type": "markdown",
   "metadata": {},
   "source": [
    "`DELETE DATABASE`"
   ]
  },
  {
   "cell_type": "code",
   "execution_count": 1,
   "metadata": {},
   "outputs": [],
   "source": [
    "import os\n",
    "from pathlib import Path\n",
    "if Path('app/db/PKMN.db').exists():\n",
    "    confirm = input(f\"⚠️ Êtes-vous sûr de vouloir supprimer la base de données? (y/N): \")\n",
    "    if confirm.lower() == 'y':\n",
    "        os.remove(Path('app/db/PKMN.db'))\n"
   ]
  }
 ],
 "metadata": {
  "kernelspec": {
   "display_name": ".venv",
   "language": "python",
   "name": "python3"
  },
  "language_info": {
   "codemirror_mode": {
    "name": "ipython",
    "version": 3
   },
   "file_extension": ".py",
   "mimetype": "text/x-python",
   "name": "python",
   "nbconvert_exporter": "python",
   "pygments_lexer": "ipython3",
   "version": "3.12.10"
  }
 },
 "nbformat": 4,
 "nbformat_minor": 2
}
